{
 "cells": [
  {
   "cell_type": "markdown",
   "metadata": {},
   "source": [
    "# WeatherPy\n",
    "----\n",
    "\n",
    "#### Note\n",
    "* Instructions have been included for each segment. You do not have to follow them exactly, but they are included to help you think through the steps."
   ]
  },
  {
   "cell_type": "code",
   "execution_count": 13,
   "metadata": {
    "scrolled": true
   },
   "outputs": [],
   "source": [
    "# Dependencies and Setup\n",
    "import matplotlib.pyplot as plt\n",
    "import pandas as pd\n",
    "import numpy as np\n",
    "import requests\n",
    "import time\n",
    "from scipy.stats import linregress\n",
    "import scipy.stats as st\n",
    "\n",
    "# Import API key\n",
    "from api_keys import weather_api_key\n",
    "\n",
    "# Incorporated citipy to determine city based on latitude and longitude\n",
    "from citipy import citipy\n",
    "\n",
    "# Output File (CSV)\n",
    "output_data_file = \"output_data/cities.csv\"\n",
    "\n",
    "# Range of latitudes and longitudes\n",
    "lat_range = (-90, 90)\n",
    "lng_range = (-180, 180)"
   ]
  },
  {
   "cell_type": "markdown",
   "metadata": {},
   "source": [
    "## Generate Cities List"
   ]
  },
  {
   "cell_type": "code",
   "execution_count": 14,
   "metadata": {},
   "outputs": [
    {
     "data": {
      "text/plain": [
       "588"
      ]
     },
     "execution_count": 14,
     "metadata": {},
     "output_type": "execute_result"
    }
   ],
   "source": [
    "# List for holding lat_lngs and cities\n",
    "lat_lngs = []\n",
    "cities = []\n",
    "\n",
    "# Create a set of random lat and lng combinations\n",
    "lats = np.random.uniform(lat_range[0], lat_range[1], size=1500)\n",
    "lngs = np.random.uniform(lng_range[0], lng_range[1], size=1500)\n",
    "lat_lngs = zip(lats, lngs)\n",
    "\n",
    "# Identify nearest city for each lat, lng combination\n",
    "for lat_lng in lat_lngs:\n",
    "    city = citipy.nearest_city(lat_lng[0], lat_lng[1]).city_name\n",
    "    \n",
    "    # If the city is unique, then add it to a our cities list\n",
    "    if city not in cities:\n",
    "        cities.append(city)\n",
    "\n",
    "# Print the city count to confirm sufficient count\n",
    "len(cities)"
   ]
  },
  {
   "cell_type": "markdown",
   "metadata": {},
   "source": [
    "### Perform API Calls\n",
    "* Perform a weather check on each city using a series of successive API calls.\n",
    "* Include a print log of each city as it'sbeing processed (with the city number and city name).\n"
   ]
  },
  {
   "cell_type": "code",
   "execution_count": 15,
   "metadata": {},
   "outputs": [
    {
     "data": {
      "text/html": [
       "<div>\n",
       "<style scoped>\n",
       "    .dataframe tbody tr th:only-of-type {\n",
       "        vertical-align: middle;\n",
       "    }\n",
       "\n",
       "    .dataframe tbody tr th {\n",
       "        vertical-align: top;\n",
       "    }\n",
       "\n",
       "    .dataframe thead th {\n",
       "        text-align: right;\n",
       "    }\n",
       "</style>\n",
       "<table border=\"1\" class=\"dataframe\">\n",
       "  <thead>\n",
       "    <tr style=\"text-align: right;\">\n",
       "      <th></th>\n",
       "      <th>cities</th>\n",
       "      <th>temp(f)</th>\n",
       "      <th>latitude</th>\n",
       "      <th>longitude</th>\n",
       "      <th>humidity</th>\n",
       "      <th>cloudiness</th>\n",
       "      <th>wind_speed</th>\n",
       "    </tr>\n",
       "  </thead>\n",
       "  <tbody>\n",
       "    <tr>\n",
       "      <th>0</th>\n",
       "      <td>leningradskiy</td>\n",
       "      <td>0.0</td>\n",
       "      <td>0.0</td>\n",
       "      <td>0.0</td>\n",
       "      <td>0.0</td>\n",
       "      <td>0.0</td>\n",
       "      <td>0.0</td>\n",
       "    </tr>\n",
       "    <tr>\n",
       "      <th>1</th>\n",
       "      <td>dikson</td>\n",
       "      <td>0.0</td>\n",
       "      <td>0.0</td>\n",
       "      <td>0.0</td>\n",
       "      <td>0.0</td>\n",
       "      <td>0.0</td>\n",
       "      <td>0.0</td>\n",
       "    </tr>\n",
       "    <tr>\n",
       "      <th>2</th>\n",
       "      <td>constantine</td>\n",
       "      <td>0.0</td>\n",
       "      <td>0.0</td>\n",
       "      <td>0.0</td>\n",
       "      <td>0.0</td>\n",
       "      <td>0.0</td>\n",
       "      <td>0.0</td>\n",
       "    </tr>\n",
       "    <tr>\n",
       "      <th>3</th>\n",
       "      <td>butaritari</td>\n",
       "      <td>0.0</td>\n",
       "      <td>0.0</td>\n",
       "      <td>0.0</td>\n",
       "      <td>0.0</td>\n",
       "      <td>0.0</td>\n",
       "      <td>0.0</td>\n",
       "    </tr>\n",
       "    <tr>\n",
       "      <th>4</th>\n",
       "      <td>thompson</td>\n",
       "      <td>0.0</td>\n",
       "      <td>0.0</td>\n",
       "      <td>0.0</td>\n",
       "      <td>0.0</td>\n",
       "      <td>0.0</td>\n",
       "      <td>0.0</td>\n",
       "    </tr>\n",
       "    <tr>\n",
       "      <th>5</th>\n",
       "      <td>hobart</td>\n",
       "      <td>0.0</td>\n",
       "      <td>0.0</td>\n",
       "      <td>0.0</td>\n",
       "      <td>0.0</td>\n",
       "      <td>0.0</td>\n",
       "      <td>0.0</td>\n",
       "    </tr>\n",
       "    <tr>\n",
       "      <th>6</th>\n",
       "      <td>soyo</td>\n",
       "      <td>0.0</td>\n",
       "      <td>0.0</td>\n",
       "      <td>0.0</td>\n",
       "      <td>0.0</td>\n",
       "      <td>0.0</td>\n",
       "      <td>0.0</td>\n",
       "    </tr>\n",
       "    <tr>\n",
       "      <th>7</th>\n",
       "      <td>port alfred</td>\n",
       "      <td>0.0</td>\n",
       "      <td>0.0</td>\n",
       "      <td>0.0</td>\n",
       "      <td>0.0</td>\n",
       "      <td>0.0</td>\n",
       "      <td>0.0</td>\n",
       "    </tr>\n",
       "    <tr>\n",
       "      <th>8</th>\n",
       "      <td>new norfolk</td>\n",
       "      <td>0.0</td>\n",
       "      <td>0.0</td>\n",
       "      <td>0.0</td>\n",
       "      <td>0.0</td>\n",
       "      <td>0.0</td>\n",
       "      <td>0.0</td>\n",
       "    </tr>\n",
       "    <tr>\n",
       "      <th>9</th>\n",
       "      <td>qaanaaq</td>\n",
       "      <td>0.0</td>\n",
       "      <td>0.0</td>\n",
       "      <td>0.0</td>\n",
       "      <td>0.0</td>\n",
       "      <td>0.0</td>\n",
       "      <td>0.0</td>\n",
       "    </tr>\n",
       "  </tbody>\n",
       "</table>\n",
       "</div>"
      ],
      "text/plain": [
       "          cities  temp(f)  latitude  longitude  humidity  cloudiness  \\\n",
       "0  leningradskiy      0.0       0.0        0.0       0.0         0.0   \n",
       "1         dikson      0.0       0.0        0.0       0.0         0.0   \n",
       "2    constantine      0.0       0.0        0.0       0.0         0.0   \n",
       "3     butaritari      0.0       0.0        0.0       0.0         0.0   \n",
       "4       thompson      0.0       0.0        0.0       0.0         0.0   \n",
       "5         hobart      0.0       0.0        0.0       0.0         0.0   \n",
       "6           soyo      0.0       0.0        0.0       0.0         0.0   \n",
       "7    port alfred      0.0       0.0        0.0       0.0         0.0   \n",
       "8    new norfolk      0.0       0.0        0.0       0.0         0.0   \n",
       "9        qaanaaq      0.0       0.0        0.0       0.0         0.0   \n",
       "\n",
       "   wind_speed  \n",
       "0         0.0  \n",
       "1         0.0  \n",
       "2         0.0  \n",
       "3         0.0  \n",
       "4         0.0  \n",
       "5         0.0  \n",
       "6         0.0  \n",
       "7         0.0  \n",
       "8         0.0  \n",
       "9         0.0  "
      ]
     },
     "execution_count": 15,
     "metadata": {},
     "output_type": "execute_result"
    }
   ],
   "source": [
    "\n",
    "\n",
    "city_df = pd.DataFrame({\"cities\": cities})\n",
    "city_df[\"temp(f)\"] = 0.0\n",
    "city_df[\"latitude\"] = 0.0\n",
    "city_df[\"longitude\"] = 0.0\n",
    "city_df[\"humidity\"] = 0.0\n",
    "city_df[\"cloudiness\"] = 0.0\n",
    "city_df[\"wind_speed\"] = 0.0\n",
    "city_df.head(10)"
   ]
  },
  {
   "cell_type": "code",
   "execution_count": 16,
   "metadata": {},
   "outputs": [
    {
     "data": {
      "text/plain": [
       "3"
      ]
     },
     "execution_count": 16,
     "metadata": {},
     "output_type": "execute_result"
    }
   ],
   "source": [
    "units = \"imperial\"\n",
    "testcity = \"chicago\"\n",
    "url = \"http://api.openweathermap.org/data/2.5/weather?\"\n",
    "query_url = f\"{url}appid={weather_api_key}&units={units}&q=\"\n",
    "response = requests.get(query_url + testcity).json()\n",
    "response['wind']['speed']\n"
   ]
  },
  {
   "cell_type": "code",
   "execution_count": 17,
   "metadata": {
    "scrolled": true
   },
   "outputs": [
    {
     "name": "stdout",
     "output_type": "stream",
     "text": [
      "Missing field ... skipping. Total missing cities: 1.\n",
      "Missing field ... skipping. Total missing cities: 2.\n",
      "Missing field ... skipping. Total missing cities: 3.\n",
      "Missing field ... skipping. Total missing cities: 4.\n",
      "Missing field ... skipping. Total missing cities: 5.\n",
      "Missing field ... skipping. Total missing cities: 6.\n",
      "Missing field ... skipping. Total missing cities: 7.\n",
      "Missing field ... skipping. Total missing cities: 8.\n",
      "Missing field ... skipping. Total missing cities: 9.\n",
      "Missing field ... skipping. Total missing cities: 10.\n",
      "Missing field ... skipping. Total missing cities: 11.\n",
      "Missing field ... skipping. Total missing cities: 12.\n",
      "Missing field ... skipping. Total missing cities: 13.\n",
      "Missing field ... skipping. Total missing cities: 14.\n",
      "Missing field ... skipping. Total missing cities: 15.\n",
      "Missing field ... skipping. Total missing cities: 16.\n",
      "Missing field ... skipping. Total missing cities: 17.\n",
      "Missing field ... skipping. Total missing cities: 18.\n",
      "Missing field ... skipping. Total missing cities: 19.\n",
      "Missing field ... skipping. Total missing cities: 20.\n",
      "Missing field ... skipping. Total missing cities: 21.\n",
      "Missing field ... skipping. Total missing cities: 22.\n",
      "Missing field ... skipping. Total missing cities: 23.\n",
      "Missing field ... skipping. Total missing cities: 24.\n",
      "Missing field ... skipping. Total missing cities: 25.\n",
      "Missing field ... skipping. Total missing cities: 26.\n",
      "Missing field ... skipping. Total missing cities: 27.\n",
      "Missing field ... skipping. Total missing cities: 28.\n",
      "Missing field ... skipping. Total missing cities: 29.\n",
      "Missing field ... skipping. Total missing cities: 30.\n",
      "Missing field ... skipping. Total missing cities: 31.\n",
      "Missing field ... skipping. Total missing cities: 32.\n",
      "Missing field ... skipping. Total missing cities: 33.\n",
      "Missing field ... skipping. Total missing cities: 34.\n",
      "Missing field ... skipping. Total missing cities: 35.\n",
      "Missing field ... skipping. Total missing cities: 36.\n",
      "Missing field ... skipping. Total missing cities: 37.\n",
      "Missing field ... skipping. Total missing cities: 38.\n",
      "Missing field ... skipping. Total missing cities: 39.\n",
      "Missing field ... skipping. Total missing cities: 40.\n",
      "Missing field ... skipping. Total missing cities: 41.\n",
      "Missing field ... skipping. Total missing cities: 42.\n",
      "Missing field ... skipping. Total missing cities: 43.\n",
      "Missing field ... skipping. Total missing cities: 44.\n",
      "Missing field ... skipping. Total missing cities: 45.\n",
      "Missing field ... skipping. Total missing cities: 46.\n",
      "Missing field ... skipping. Total missing cities: 47.\n",
      "Missing field ... skipping. Total missing cities: 48.\n",
      "Missing field ... skipping. Total missing cities: 49.\n",
      "Missing field ... skipping. Total missing cities: 50.\n",
      "Missing field ... skipping. Total missing cities: 51.\n",
      "Missing field ... skipping. Total missing cities: 52.\n",
      "Missing field ... skipping. Total missing cities: 53.\n",
      "Missing field ... skipping. Total missing cities: 54.\n",
      "Missing field ... skipping. Total missing cities: 55.\n",
      "Missing field ... skipping. Total missing cities: 56.\n",
      "Missing field ... skipping. Total missing cities: 57.\n",
      "Missing field ... skipping. Total missing cities: 58.\n",
      "Total missing cities: 58\n"
     ]
    }
   ],
   "source": [
    "# use iterrows to iterate through pandas dataframe\n",
    "missing_cities = 0\n",
    "for index, row in city_df.iterrows():\n",
    "    city = row['cities']\n",
    "    # query the city and convert to json\n",
    "    response = requests.get(query_url + city).json()\n",
    "    #a ppend the weather data to the appropriate column/row\n",
    "    # print(response)\n",
    "    try:\n",
    "        city_df.loc[index, \"wind_speed\"]=response['wind']['speed']\n",
    "        city_df.loc[index, \"cloudiness\"]=response['clouds']['all']\n",
    "        city_df.loc[index, \"latitude\"]=response['coord']['lat']\n",
    "        city_df.loc[index, \"longitude\"]=response['coord']['lon']\n",
    "        city_df.loc[index, \"temp(f)\"]=response['main']['temp']\n",
    "        city_df.loc[index, \"humidity\"]=response['main']['humidity']\n",
    "    except (KeyError, IndexError):\n",
    "        missing_cities = missing_cities + 1\n",
    "        print(f\"Missing field ... skipping. Total missing cities: {missing_cities}.\")\n",
    "        \n",
    " \n",
    "print(f\"Total missing cities: {missing_cities}\")        "
   ]
  },
  {
   "cell_type": "markdown",
   "metadata": {},
   "source": [
    "### Convert Raw Data to DataFrame\n",
    "* Export the city data into a .csv.\n",
    "* Display the DataFrame\n",
    "city_df.head()"
   ]
  },
  {
   "cell_type": "code",
   "execution_count": 18,
   "metadata": {},
   "outputs": [
    {
     "data": {
      "text/html": [
       "<div>\n",
       "<style scoped>\n",
       "    .dataframe tbody tr th:only-of-type {\n",
       "        vertical-align: middle;\n",
       "    }\n",
       "\n",
       "    .dataframe tbody tr th {\n",
       "        vertical-align: top;\n",
       "    }\n",
       "\n",
       "    .dataframe thead th {\n",
       "        text-align: right;\n",
       "    }\n",
       "</style>\n",
       "<table border=\"1\" class=\"dataframe\">\n",
       "  <thead>\n",
       "    <tr style=\"text-align: right;\">\n",
       "      <th></th>\n",
       "      <th>cities</th>\n",
       "      <th>temp(f)</th>\n",
       "      <th>latitude</th>\n",
       "      <th>longitude</th>\n",
       "      <th>humidity</th>\n",
       "      <th>cloudiness</th>\n",
       "      <th>wind_speed</th>\n",
       "    </tr>\n",
       "  </thead>\n",
       "  <tbody>\n",
       "    <tr>\n",
       "      <th>0</th>\n",
       "      <td>leningradskiy</td>\n",
       "      <td>35.28</td>\n",
       "      <td>69.3833</td>\n",
       "      <td>178.4167</td>\n",
       "      <td>93.0</td>\n",
       "      <td>99.0</td>\n",
       "      <td>13.60</td>\n",
       "    </tr>\n",
       "    <tr>\n",
       "      <th>1</th>\n",
       "      <td>dikson</td>\n",
       "      <td>40.60</td>\n",
       "      <td>73.5069</td>\n",
       "      <td>80.5464</td>\n",
       "      <td>99.0</td>\n",
       "      <td>100.0</td>\n",
       "      <td>1.70</td>\n",
       "    </tr>\n",
       "    <tr>\n",
       "      <th>2</th>\n",
       "      <td>constantine</td>\n",
       "      <td>90.81</td>\n",
       "      <td>36.3650</td>\n",
       "      <td>6.6147</td>\n",
       "      <td>33.0</td>\n",
       "      <td>75.0</td>\n",
       "      <td>14.97</td>\n",
       "    </tr>\n",
       "    <tr>\n",
       "      <th>3</th>\n",
       "      <td>butaritari</td>\n",
       "      <td>83.19</td>\n",
       "      <td>3.0707</td>\n",
       "      <td>172.7902</td>\n",
       "      <td>70.0</td>\n",
       "      <td>36.0</td>\n",
       "      <td>9.73</td>\n",
       "    </tr>\n",
       "    <tr>\n",
       "      <th>4</th>\n",
       "      <td>thompson</td>\n",
       "      <td>48.36</td>\n",
       "      <td>55.7435</td>\n",
       "      <td>-97.8558</td>\n",
       "      <td>93.0</td>\n",
       "      <td>20.0</td>\n",
       "      <td>0.00</td>\n",
       "    </tr>\n",
       "  </tbody>\n",
       "</table>\n",
       "</div>"
      ],
      "text/plain": [
       "          cities  temp(f)  latitude  longitude  humidity  cloudiness  \\\n",
       "0  leningradskiy    35.28   69.3833   178.4167      93.0        99.0   \n",
       "1         dikson    40.60   73.5069    80.5464      99.0       100.0   \n",
       "2    constantine    90.81   36.3650     6.6147      33.0        75.0   \n",
       "3     butaritari    83.19    3.0707   172.7902      70.0        36.0   \n",
       "4       thompson    48.36   55.7435   -97.8558      93.0        20.0   \n",
       "\n",
       "   wind_speed  \n",
       "0       13.60  \n",
       "1        1.70  \n",
       "2       14.97  \n",
       "3        9.73  \n",
       "4        0.00  "
      ]
     },
     "execution_count": 18,
     "metadata": {},
     "output_type": "execute_result"
    }
   ],
   "source": [
    "city_df.to_csv(\"../output_data/city_weather.csv\", index=True, header=True)\n",
    "city_df.head()"
   ]
  },
  {
   "cell_type": "code",
   "execution_count": 19,
   "metadata": {},
   "outputs": [
    {
     "data": {
      "text/plain": [
       "cities         object\n",
       "temp(f)       float64\n",
       "latitude      float64\n",
       "longitude     float64\n",
       "humidity      float64\n",
       "cloudiness    float64\n",
       "wind_speed    float64\n",
       "dtype: object"
      ]
     },
     "execution_count": 19,
     "metadata": {},
     "output_type": "execute_result"
    }
   ],
   "source": [
    "city_df.dtypes"
   ]
  },
  {
   "cell_type": "markdown",
   "metadata": {},
   "source": [
    "## Inspect the data and remove the cities where the humidity > 100%.\n",
    "----\n",
    "Skip this step if there are no cities that have humidity > 100%. "
   ]
  },
  {
   "cell_type": "code",
   "execution_count": 20,
   "metadata": {},
   "outputs": [
    {
     "data": {
      "text/plain": [
       "588"
      ]
     },
     "execution_count": 20,
     "metadata": {},
     "output_type": "execute_result"
    }
   ],
   "source": [
    "\n",
    "city_df.index[city_df['humidity']>100].tolist()\n",
    "# nothing was returned, so no cities have >100% humidity RIGHT NOW\n",
    "len(city_df)"
   ]
  },
  {
   "cell_type": "code",
   "execution_count": 21,
   "metadata": {},
   "outputs": [
    {
     "data": {
      "text/plain": [
       "0"
      ]
     },
     "execution_count": 21,
     "metadata": {},
     "output_type": "execute_result"
    }
   ],
   "source": [
    "#  Get the indices of cities that have humidity over 100%. Right now there are none\n",
    "humidity_err = city_df.index[city_df['humidity']>100].tolist()\n",
    "len(humidity_err)"
   ]
  },
  {
   "cell_type": "code",
   "execution_count": 22,
   "metadata": {},
   "outputs": [
    {
     "data": {
      "text/plain": [
       "588"
      ]
     },
     "execution_count": 22,
     "metadata": {},
     "output_type": "execute_result"
    }
   ],
   "source": [
    "# Make a new DataFrame equal to the city data to drop all humidity outliers by index.\n",
    "# Passing \"inplace=False\" will make a copy of the city_data DataFrame, which we call \"clean_city_data\".\n",
    "clean_city_data = city_df.drop(index=humidity_err, inplace=False)\n",
    "len(clean_city_data)"
   ]
  },
  {
   "cell_type": "code",
   "execution_count": 23,
   "metadata": {},
   "outputs": [
    {
     "data": {
      "text/html": [
       "<div>\n",
       "<style scoped>\n",
       "    .dataframe tbody tr th:only-of-type {\n",
       "        vertical-align: middle;\n",
       "    }\n",
       "\n",
       "    .dataframe tbody tr th {\n",
       "        vertical-align: top;\n",
       "    }\n",
       "\n",
       "    .dataframe thead th {\n",
       "        text-align: right;\n",
       "    }\n",
       "</style>\n",
       "<table border=\"1\" class=\"dataframe\">\n",
       "  <thead>\n",
       "    <tr style=\"text-align: right;\">\n",
       "      <th></th>\n",
       "      <th>cities</th>\n",
       "      <th>temp(f)</th>\n",
       "      <th>latitude</th>\n",
       "      <th>longitude</th>\n",
       "      <th>humidity</th>\n",
       "      <th>cloudiness</th>\n",
       "      <th>wind_speed</th>\n",
       "    </tr>\n",
       "  </thead>\n",
       "  <tbody>\n",
       "    <tr>\n",
       "      <th>0</th>\n",
       "      <td>leningradskiy</td>\n",
       "      <td>35.28</td>\n",
       "      <td>69.3833</td>\n",
       "      <td>178.4167</td>\n",
       "      <td>93.0</td>\n",
       "      <td>99.0</td>\n",
       "      <td>13.60</td>\n",
       "    </tr>\n",
       "    <tr>\n",
       "      <th>1</th>\n",
       "      <td>dikson</td>\n",
       "      <td>40.60</td>\n",
       "      <td>73.5069</td>\n",
       "      <td>80.5464</td>\n",
       "      <td>99.0</td>\n",
       "      <td>100.0</td>\n",
       "      <td>1.70</td>\n",
       "    </tr>\n",
       "    <tr>\n",
       "      <th>2</th>\n",
       "      <td>constantine</td>\n",
       "      <td>90.81</td>\n",
       "      <td>36.3650</td>\n",
       "      <td>6.6147</td>\n",
       "      <td>33.0</td>\n",
       "      <td>75.0</td>\n",
       "      <td>14.97</td>\n",
       "    </tr>\n",
       "    <tr>\n",
       "      <th>3</th>\n",
       "      <td>butaritari</td>\n",
       "      <td>83.19</td>\n",
       "      <td>3.0707</td>\n",
       "      <td>172.7902</td>\n",
       "      <td>70.0</td>\n",
       "      <td>36.0</td>\n",
       "      <td>9.73</td>\n",
       "    </tr>\n",
       "    <tr>\n",
       "      <th>4</th>\n",
       "      <td>thompson</td>\n",
       "      <td>48.36</td>\n",
       "      <td>55.7435</td>\n",
       "      <td>-97.8558</td>\n",
       "      <td>93.0</td>\n",
       "      <td>20.0</td>\n",
       "      <td>0.00</td>\n",
       "    </tr>\n",
       "  </tbody>\n",
       "</table>\n",
       "</div>"
      ],
      "text/plain": [
       "          cities  temp(f)  latitude  longitude  humidity  cloudiness  \\\n",
       "0  leningradskiy    35.28   69.3833   178.4167      93.0        99.0   \n",
       "1         dikson    40.60   73.5069    80.5464      99.0       100.0   \n",
       "2    constantine    90.81   36.3650     6.6147      33.0        75.0   \n",
       "3     butaritari    83.19    3.0707   172.7902      70.0        36.0   \n",
       "4       thompson    48.36   55.7435   -97.8558      93.0        20.0   \n",
       "\n",
       "   wind_speed  \n",
       "0       13.60  \n",
       "1        1.70  \n",
       "2       14.97  \n",
       "3        9.73  \n",
       "4        0.00  "
      ]
     },
     "execution_count": 23,
     "metadata": {},
     "output_type": "execute_result"
    }
   ],
   "source": [
    "\n",
    "clean_city_data.head()"
   ]
  },
  {
   "cell_type": "markdown",
   "metadata": {},
   "source": [
    "## Plotting the Data\n",
    "* Use proper labeling of the plots using plot titles (including date of analysis) and axes labels.\n",
    "* Save the plotted figures as .pngs."
   ]
  },
  {
   "cell_type": "markdown",
   "metadata": {},
   "source": [
    "## Latitude vs. Temperature Plot"
   ]
  },
  {
   "cell_type": "code",
   "execution_count": 28,
   "metadata": {
    "scrolled": true
   },
   "outputs": [
    {
     "data": {
      "image/png": "[encoded data removed]",
      "text/plain": [
       "<Figure size 432x288 with 1 Axes>"
      ]
     },
     "metadata": {
      "needs_background": "light"
     },
     "output_type": "display_data"
    },
    {
     "name": "stdout",
     "output_type": "stream",
     "text": [
      "The correlation between Latitude and Temperature (F) is (0.13439698844486492, 0.0010875073151432018)\n",
      "The regression equation is y = 0.1x + 60.41. \n",
      "The r-squared is: 0.01806255050304917 with a p value of 0.0010875073151439246.\n"
     ]
    }
   ],
   "source": [
    "x_values = clean_city_data[\"latitude\"]\n",
    "y_values= clean_city_data[\"temp(f)\"]\n",
    "correlation = st.pearsonr(x_values, y_values)\n",
    "x_label = \"Latitude\"\n",
    "y_label = \"Temperature (F)\"\n",
    "\n",
    "# Add the linear regression equation and line to plot\n",
    "(slope, intercept, rvalue, pvalue, stderr) = linregress(x_values, y_values)\n",
    "regress_values = x_values * slope + intercept\n",
    "line_eq = (\"y = \" + str(round(slope,2)) + \"x + \" + str(round(intercept,2)))\n",
    "plt.scatter(x_values,y_values)\n",
    "plt.plot(x_values,regress_values,\"r-\")\n",
    "plt.annotate(line_eq,(1,5),fontsize=15,color=\"red\")\n",
    "plt.xlabel(x_label)\n",
    "plt.ylabel(y_label)\n",
    "plt.title('data as of 8/1/2021')\n",
    "plt.suptitle(f'{x_label} vs. {y_label}')\n",
    "plt.legend(line_eq)\n",
    "plt.savefig(\"../output_data/weather_1.png\")\n",
    "plt.show()\n",
    "print(f\"The correlation between {x_label} and {y_label} is {correlation}\")\n",
    "print(f\"The regression equation is {line_eq}. \")\n",
    "print(f\"The r-squared is: {rvalue**2} with a p value of {pvalue}.\")\n",
    "\n"
   ]
  },
  {
   "cell_type": "markdown",
   "metadata": {},
   "source": [
    "## Latitude vs. Humidity Plot"
   ]
  },
  {
   "cell_type": "code",
   "execution_count": 29,
   "metadata": {},
   "outputs": [
    {
     "data": {
      "image/png": "[encoded data removed]",
      "text/plain": [
       "<Figure size 432x288 with 1 Axes>"
      ]
     },
     "metadata": {
      "needs_background": "light"
     },
     "output_type": "display_data"
    },
    {
     "name": "stdout",
     "output_type": "stream",
     "text": [
      "The correlation between Latitude and Humidity is (0.18785178389618182, 4.510360091728876e-06)\n",
      "The regression equation is y = 0.17x + 59.13. \n",
      "The r-squared is: 0.035288292712977794 with a p value of 4.5103600917314e-06.\n"
     ]
    }
   ],
   "source": [
    "x_values = clean_city_data[\"latitude\"]\n",
    "y_values= clean_city_data[\"humidity\"]\n",
    "correlation = st.pearsonr(x_values, y_values)\n",
    "x_label = \"Latitude\"\n",
    "y_label = \"Humidity\"\n",
    "\n",
    "# Add the linear regression equation and line to plot\n",
    "(slope, intercept, rvalue, pvalue, stderr) = linregress(x_values, y_values)\n",
    "regress_values = x_values * slope + intercept\n",
    "line_eq = (\"y = \" + str(round(slope,2)) + \"x + \" + str(round(intercept,2)))\n",
    "plt.scatter(x_values,y_values)\n",
    "plt.plot(x_values,regress_values,\"r-\")\n",
    "plt.annotate(line_eq,(1,5),fontsize=15,color=\"red\")\n",
    "plt.xlabel(x_label)\n",
    "plt.ylabel(y_label)\n",
    "plt.title('data as of 8/1/2021')\n",
    "plt.suptitle(f'{x_label} vs. {y_label}')\n",
    "plt.legend(line_eq)\n",
    "plt.savefig(\"../output_data/weather_2.png\")\n",
    "plt.show()\n",
    "print(f\"The correlation between {x_label} and {y_label} is {correlation}\")\n",
    "print(f\"The regression equation is {line_eq}. \")\n",
    "print(f\"The r-squared is: {rvalue**2} with a p value of {pvalue}.\")\n"
   ]
  },
  {
   "cell_type": "markdown",
   "metadata": {},
   "source": [
    "## Latitude vs. Cloudiness Plot"
   ]
  },
  {
   "cell_type": "code",
   "execution_count": 30,
   "metadata": {},
   "outputs": [
    {
     "data": {
      "image/png": "[encoded data removed]",
      "text/plain": [
       "<Figure size 432x288 with 1 Axes>"
      ]
     },
     "metadata": {
      "needs_background": "light"
     },
     "output_type": "display_data"
    },
    {
     "name": "stdout",
     "output_type": "stream",
     "text": [
      "The correlation between Latitude and Cloudiness is (0.1851083942675366, 6.236985283573365e-06)\n",
      "The regression equation is y = 0.22x + 45.4. \n",
      "The r-squared is: 0.034265117628305815 with a p value of 6.2369852835775145e-06.\n"
     ]
    }
   ],
   "source": [
    "x_values = clean_city_data[\"latitude\"]\n",
    "y_values= clean_city_data[\"cloudiness\"]\n",
    "correlation = st.pearsonr(x_values, y_values)\n",
    "x_label = \"Latitude\"\n",
    "y_label = \"Cloudiness\"\n",
    "\n",
    "# Add the linear regression equation and line to plot\n",
    "(slope, intercept, rvalue, pvalue, stderr) = linregress(x_values, y_values)\n",
    "regress_values = x_values * slope + intercept\n",
    "line_eq = (\"y = \" + str(round(slope,2)) + \"x + \" + str(round(intercept,2)))\n",
    "plt.scatter(x_values,y_values)\n",
    "plt.plot(x_values,regress_values,\"r-\")\n",
    "plt.annotate(line_eq,(1,5),fontsize=15,color=\"red\")\n",
    "plt.xlabel(x_label)\n",
    "plt.ylabel(y_label)\n",
    "plt.title('data as of 8/1/2021')\n",
    "plt.suptitle(f'{x_label} vs. {y_label}')\n",
    "plt.legend(line_eq)\n",
    "plt.savefig(\"../output_data/weather_3.png\")\n",
    "plt.show()\n",
    "print(f\"The correlation between {x_label} and {y_label} is {correlation}\")\n",
    "print(f\"The regression equation is {line_eq}. \")\n",
    "print(f\"The r-squared is: {rvalue**2} with a p value of {pvalue}.\")"
   ]
  },
  {
   "cell_type": "markdown",
   "metadata": {},
   "source": [
    "## Latitude vs. Wind Speed Plot"
   ]
  },
  {
   "cell_type": "code",
   "execution_count": null,
   "metadata": {},
   "outputs": [],
   "source": [
    "x_values = clean_city_data[\"latitude\"]\n",
    "y_values= clean_city_data[\"wind_speed\"]\n",
    "correlation = st.pearsonr(x_values, y_values)\n",
    "x_label = \"Latitude\"\n",
    "y_label = \"Wind Speed\"\n",
    "\n",
    "# Add the linear regression equation and line to plot\n",
    "(slope, intercept, rvalue, pvalue, stderr) = linregress(x_values, y_values)\n",
    "regress_values = x_values * slope + intercept\n",
    "line_eq = (\"y = \" + str(round(slope,2)) + \"x + \" + str(round(intercept,2)))\n",
    "plt.scatter(x_values,y_values)\n",
    "plt.plot(x_values,regress_values,\"r-\")\n",
    "plt.annotate(line_eq,(1,5),fontsize=15,color=\"red\")\n",
    "plt.xlabel(x_label)\n",
    "plt.ylabel(y_label)\n",
    "plt.title('data as of 8/1/2021')\n",
    "plt.suptitle(f'{x_label} vs. {y_label}')\n",
    "plt.legend(line_eq)\n",
    "plt.savefig(\"../output_data/weather_4.png\")\n",
    "plt.show()\n",
    "print(f\"The correlation between {x_label} and {y_label} is {correlation}\")\n",
    "print(f\"The regression equation is {line_eq}. \")\n",
    "print(f\"The r-squared is: {rvalue**2} with a p value of {pvalue}.\")"
   ]
  },
  {
   "cell_type": "markdown",
   "metadata": {},
   "source": [
    "## Linear Regression"
   ]
  },
  {
   "cell_type": "code",
   "execution_count": null,
   "metadata": {},
   "outputs": [],
   "source": []
  },
  {
   "cell_type": "markdown",
   "metadata": {},
   "source": [
    "####  Northern Hemisphere - Max Temp vs. Latitude Linear Regression"
   ]
  },
  {
   "cell_type": "code",
   "execution_count": null,
   "metadata": {},
   "outputs": [],
   "source": []
  },
  {
   "cell_type": "markdown",
   "metadata": {},
   "source": [
    "####  Southern Hemisphere - Max Temp vs. Latitude Linear Regression"
   ]
  },
  {
   "cell_type": "code",
   "execution_count": null,
   "metadata": {},
   "outputs": [],
   "source": []
  },
  {
   "cell_type": "markdown",
   "metadata": {},
   "source": [
    "####  Northern Hemisphere - Humidity (%) vs. Latitude Linear Regression"
   ]
  },
  {
   "cell_type": "code",
   "execution_count": null,
   "metadata": {},
   "outputs": [],
   "source": []
  },
  {
   "cell_type": "markdown",
   "metadata": {},
   "source": [
    "####  Southern Hemisphere - Humidity (%) vs. Latitude Linear Regression"
   ]
  },
  {
   "cell_type": "code",
   "execution_count": null,
   "metadata": {},
   "outputs": [],
   "source": []
  },
  {
   "cell_type": "markdown",
   "metadata": {},
   "source": [
    "####  Northern Hemisphere - Cloudiness (%) vs. Latitude Linear Regression"
   ]
  },
  {
   "cell_type": "code",
   "execution_count": null,
   "metadata": {},
   "outputs": [],
   "source": []
  },
  {
   "cell_type": "markdown",
   "metadata": {},
   "source": [
    "####  Southern Hemisphere - Cloudiness (%) vs. Latitude Linear Regression"
   ]
  },
  {
   "cell_type": "code",
   "execution_count": null,
   "metadata": {},
   "outputs": [],
   "source": []
  },
  {
   "cell_type": "markdown",
   "metadata": {},
   "source": [
    "####  Northern Hemisphere - Wind Speed (mph) vs. Latitude Linear Regression"
   ]
  },
  {
   "cell_type": "code",
   "execution_count": null,
   "metadata": {},
   "outputs": [],
   "source": []
  },
  {
   "cell_type": "markdown",
   "metadata": {},
   "source": [
    "####  Southern Hemisphere - Wind Speed (mph) vs. Latitude Linear Regression"
   ]
  },
  {
   "cell_type": "code",
   "execution_count": null,
   "metadata": {},
   "outputs": [],
   "source": []
  },
  {
   "cell_type": "code",
   "execution_count": null,
   "metadata": {},
   "outputs": [],
   "source": []
  }
 ],
 "metadata": {
  "anaconda-cloud": {},
  "kernel_info": {
   "name": "python3"
  },
  "kernelspec": {
   "display_name": "Python 3",
   "language": "python",
   "name": "python3"
  },
  "language_info": {
   "codemirror_mode": {
    "name": "ipython",
    "version": 3
   },
   "file_extension": ".py",
   "mimetype": "text/x-python",
   "name": "python",
   "nbconvert_exporter": "python",
   "pygments_lexer": "ipython3",
   "version": "3.8.10"
  },
  "latex_envs": {
   "LaTeX_envs_menu_present": true,
   "autoclose": false,
   "autocomplete": true,
   "bibliofile": "biblio.bib",
   "cite_by": "apalike",
   "current_citInitial": 1,
   "eqLabelWithNumbers": true,
   "eqNumInitial": 1,
   "hotkeys": {
    "equation": "Ctrl-E",
    "itemize": "Ctrl-I"
   },
   "labels_anchors": false,
   "latex_user_defs": false,
   "report_style_numbering": false,
   "user_envs_cfg": false
  },
  "nteract": {
   "version": "0.12.3"
  }
 },
 "nbformat": 4,
 "nbformat_minor": 2
}
