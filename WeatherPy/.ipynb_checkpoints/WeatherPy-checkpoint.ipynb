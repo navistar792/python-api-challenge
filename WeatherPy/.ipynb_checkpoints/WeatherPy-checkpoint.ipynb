{
 "cells": [
  {
   "cell_type": "markdown",
   "metadata": {},
   "source": [
    "# WeatherPy\n",
    "----\n",
    "\n",
    "#### Note\n",
    "* Instructions have been included for each segment. You do not have to follow them exactly, but they are included to help you think through the steps."
   ]
  },
  {
   "cell_type": "code",
   "execution_count": 13,
   "metadata": {
    "scrolled": true
   },
   "outputs": [],
   "source": [
    "# Dependencies and Setup\n",
    "import matplotlib.pyplot as plt\n",
    "import pandas as pd\n",
    "import numpy as np\n",
    "import requests\n",
    "import time\n",
    "from scipy.stats import linregress\n",
    "import scipy.stats as st\n",
    "\n",
    "# Import API key\n",
    "from api_keys import weather_api_key\n",
    "\n",
    "# Incorporated citipy to determine city based on latitude and longitude\n",
    "from citipy import citipy\n",
    "\n",
    "# Output File (CSV)\n",
    "output_data_file = \"output_data/cities.csv\"\n",
    "\n",
    "# Range of latitudes and longitudes\n",
    "lat_range = (-90, 90)\n",
    "lng_range = (-180, 180)"
   ]
  },
  {
   "cell_type": "markdown",
   "metadata": {},
   "source": [
    "## Generate Cities List"
   ]
  },
  {
   "cell_type": "code",
   "execution_count": 14,
   "metadata": {},
   "outputs": [
    {
     "data": {
      "text/plain": [
       "588"
      ]
     },
     "execution_count": 14,
     "metadata": {},
     "output_type": "execute_result"
    }
   ],
   "source": [
    "# List for holding lat_lngs and cities\n",
    "lat_lngs = []\n",
    "cities = []\n",
    "\n",
    "# Create a set of random lat and lng combinations\n",
    "lats = np.random.uniform(lat_range[0], lat_range[1], size=1500)\n",
    "lngs = np.random.uniform(lng_range[0], lng_range[1], size=1500)\n",
    "lat_lngs = zip(lats, lngs)\n",
    "\n",
    "# Identify nearest city for each lat, lng combination\n",
    "for lat_lng in lat_lngs:\n",
    "    city = citipy.nearest_city(lat_lng[0], lat_lng[1]).city_name\n",
    "    \n",
    "    # If the city is unique, then add it to a our cities list\n",
    "    if city not in cities:\n",
    "        cities.append(city)\n",
    "\n",
    "# Print the city count to confirm sufficient count\n",
    "len(cities)"
   ]
  },
  {
   "cell_type": "markdown",
   "metadata": {},
   "source": [
    "### Perform API Calls\n",
    "* Perform a weather check on each city using a series of successive API calls.\n",
    "* Include a print log of each city as it'sbeing processed (with the city number and city name).\n"
   ]
  },
  {
   "cell_type": "code",
   "execution_count": 15,
   "metadata": {},
   "outputs": [
    {
     "data": {
      "text/html": [
       "<div>\n",
       "<style scoped>\n",
       "    .dataframe tbody tr th:only-of-type {\n",
       "        vertical-align: middle;\n",
       "    }\n",
       "\n",
       "    .dataframe tbody tr th {\n",
       "        vertical-align: top;\n",
       "    }\n",
       "\n",
       "    .dataframe thead th {\n",
       "        text-align: right;\n",
       "    }\n",
       "</style>\n",
       "<table border=\"1\" class=\"dataframe\">\n",
       "  <thead>\n",
       "    <tr style=\"text-align: right;\">\n",
       "      <th></th>\n",
       "      <th>cities</th>\n",
       "      <th>temp(f)</th>\n",
       "      <th>latitude</th>\n",
       "      <th>longitude</th>\n",
       "      <th>humidity</th>\n",
       "      <th>cloudiness</th>\n",
       "      <th>wind_speed</th>\n",
       "    </tr>\n",
       "  </thead>\n",
       "  <tbody>\n",
       "    <tr>\n",
       "      <th>0</th>\n",
       "      <td>leningradskiy</td>\n",
       "      <td>0.0</td>\n",
       "      <td>0.0</td>\n",
       "      <td>0.0</td>\n",
       "      <td>0.0</td>\n",
       "      <td>0.0</td>\n",
       "      <td>0.0</td>\n",
       "    </tr>\n",
       "    <tr>\n",
       "      <th>1</th>\n",
       "      <td>dikson</td>\n",
       "      <td>0.0</td>\n",
       "      <td>0.0</td>\n",
       "      <td>0.0</td>\n",
       "      <td>0.0</td>\n",
       "      <td>0.0</td>\n",
       "      <td>0.0</td>\n",
       "    </tr>\n",
       "    <tr>\n",
       "      <th>2</th>\n",
       "      <td>constantine</td>\n",
       "      <td>0.0</td>\n",
       "      <td>0.0</td>\n",
       "      <td>0.0</td>\n",
       "      <td>0.0</td>\n",
       "      <td>0.0</td>\n",
       "      <td>0.0</td>\n",
       "    </tr>\n",
       "    <tr>\n",
       "      <th>3</th>\n",
       "      <td>butaritari</td>\n",
       "      <td>0.0</td>\n",
       "      <td>0.0</td>\n",
       "      <td>0.0</td>\n",
       "      <td>0.0</td>\n",
       "      <td>0.0</td>\n",
       "      <td>0.0</td>\n",
       "    </tr>\n",
       "    <tr>\n",
       "      <th>4</th>\n",
       "      <td>thompson</td>\n",
       "      <td>0.0</td>\n",
       "      <td>0.0</td>\n",
       "      <td>0.0</td>\n",
       "      <td>0.0</td>\n",
       "      <td>0.0</td>\n",
       "      <td>0.0</td>\n",
       "    </tr>\n",
       "    <tr>\n",
       "      <th>5</th>\n",
       "      <td>hobart</td>\n",
       "      <td>0.0</td>\n",
       "      <td>0.0</td>\n",
       "      <td>0.0</td>\n",
       "      <td>0.0</td>\n",
       "      <td>0.0</td>\n",
       "      <td>0.0</td>\n",
       "    </tr>\n",
       "    <tr>\n",
       "      <th>6</th>\n",
       "      <td>soyo</td>\n",
       "      <td>0.0</td>\n",
       "      <td>0.0</td>\n",
       "      <td>0.0</td>\n",
       "      <td>0.0</td>\n",
       "      <td>0.0</td>\n",
       "      <td>0.0</td>\n",
       "    </tr>\n",
       "    <tr>\n",
       "      <th>7</th>\n",
       "      <td>port alfred</td>\n",
       "      <td>0.0</td>\n",
       "      <td>0.0</td>\n",
       "      <td>0.0</td>\n",
       "      <td>0.0</td>\n",
       "      <td>0.0</td>\n",
       "      <td>0.0</td>\n",
       "    </tr>\n",
       "    <tr>\n",
       "      <th>8</th>\n",
       "      <td>new norfolk</td>\n",
       "      <td>0.0</td>\n",
       "      <td>0.0</td>\n",
       "      <td>0.0</td>\n",
       "      <td>0.0</td>\n",
       "      <td>0.0</td>\n",
       "      <td>0.0</td>\n",
       "    </tr>\n",
       "    <tr>\n",
       "      <th>9</th>\n",
       "      <td>qaanaaq</td>\n",
       "      <td>0.0</td>\n",
       "      <td>0.0</td>\n",
       "      <td>0.0</td>\n",
       "      <td>0.0</td>\n",
       "      <td>0.0</td>\n",
       "      <td>0.0</td>\n",
       "    </tr>\n",
       "  </tbody>\n",
       "</table>\n",
       "</div>"
      ],
      "text/plain": [
       "          cities  temp(f)  latitude  longitude  humidity  cloudiness  \\\n",
       "0  leningradskiy      0.0       0.0        0.0       0.0         0.0   \n",
       "1         dikson      0.0       0.0        0.0       0.0         0.0   \n",
       "2    constantine      0.0       0.0        0.0       0.0         0.0   \n",
       "3     butaritari      0.0       0.0        0.0       0.0         0.0   \n",
       "4       thompson      0.0       0.0        0.0       0.0         0.0   \n",
       "5         hobart      0.0       0.0        0.0       0.0         0.0   \n",
       "6           soyo      0.0       0.0        0.0       0.0         0.0   \n",
       "7    port alfred      0.0       0.0        0.0       0.0         0.0   \n",
       "8    new norfolk      0.0       0.0        0.0       0.0         0.0   \n",
       "9        qaanaaq      0.0       0.0        0.0       0.0         0.0   \n",
       "\n",
       "   wind_speed  \n",
       "0         0.0  \n",
       "1         0.0  \n",
       "2         0.0  \n",
       "3         0.0  \n",
       "4         0.0  \n",
       "5         0.0  \n",
       "6         0.0  \n",
       "7         0.0  \n",
       "8         0.0  \n",
       "9         0.0  "
      ]
     },
     "execution_count": 15,
     "metadata": {},
     "output_type": "execute_result"
    }
   ],
   "source": [
    "\n",
    "\n",
    "city_df = pd.DataFrame({\"cities\": cities})\n",
    "city_df[\"temp(f)\"] = 0.0\n",
    "city_df[\"latitude\"] = 0.0\n",
    "city_df[\"longitude\"] = 0.0\n",
    "city_df[\"humidity\"] = 0.0\n",
    "city_df[\"cloudiness\"] = 0.0\n",
    "city_df[\"wind_speed\"] = 0.0\n",
    "city_df.head(10)"
   ]
  },
  {
   "cell_type": "code",
   "execution_count": 16,
   "metadata": {},
   "outputs": [
    {
     "data": {
      "text/plain": [
       "3"
      ]
     },
     "execution_count": 16,
     "metadata": {},
     "output_type": "execute_result"
    }
   ],
   "source": [
    "units = \"imperial\"\n",
    "testcity = \"chicago\"\n",
    "url = \"http://api.openweathermap.org/data/2.5/weather?\"\n",
    "query_url = f\"{url}appid={weather_api_key}&units={units}&q=\"\n",
    "response = requests.get(query_url + testcity).json()\n",
    "response['wind']['speed']\n"
   ]
  },
  {
   "cell_type": "code",
   "execution_count": 90,
   "metadata": {
    "scrolled": true
   },
   "outputs": [
    {
     "name": "stdout",
     "output_type": "stream",
     "text": [
      "0: leningradskiy processed\n",
      "1: dikson processed\n",
      "2: constantine processed\n",
      "3: butaritari processed\n",
      "4: thompson processed\n",
      "5: hobart processed\n",
      "6: soyo processed\n",
      "7: port alfred processed\n",
      "8: new norfolk processed\n",
      "9: qaanaaq processed\n",
      "10: cherskiy processed\n",
      "11: hermanus processed\n",
      "12: vaini processed\n",
      "Missing field ... skipping. Total missing cities: 1.\n",
      "14: santo antonio do ica processed\n",
      "15: khatanga processed\n",
      "16: mataura processed\n",
      "17: cape town processed\n",
      "Missing field ... skipping. Total missing cities: 2.\n",
      "19: barrow processed\n",
      "Missing field ... skipping. Total missing cities: 3.\n",
      "21: tasiilaq processed\n",
      "22: bredasdorp processed\n",
      "23: laukaa processed\n",
      "24: san luis processed\n",
      "25: yellowknife processed\n",
      "26: kuybysheve processed\n",
      "27: halifax processed\n",
      "28: ko samui processed\n",
      "29: bluff processed\n",
      "30: saint-philippe processed\n",
      "31: busselton processed\n",
      "32: constitucion processed\n",
      "33: bethel processed\n",
      "Missing field ... skipping. Total missing cities: 4.\n",
      "35: rawson processed\n",
      "36: burns lake processed\n",
      "37: los llanos de aridane processed\n",
      "38: georgetown processed\n",
      "39: victoria processed\n",
      "40: zverinogolovskoye processed\n",
      "41: rio grande processed\n",
      "42: cidreira processed\n",
      "Missing field ... skipping. Total missing cities: 5.\n",
      "44: laguna processed\n",
      "45: awbari processed\n",
      "46: ushuaia processed\n",
      "47: sistranda processed\n",
      "48: hamilton processed\n",
      "49: nikolskoye processed\n",
      "50: tuktoyaktuk processed\n",
      "51: isangel processed\n",
      "52: san patricio processed\n",
      "53: hasaki processed\n",
      "Missing field ... skipping. Total missing cities: 6.\n",
      "55: boende processed\n",
      "56: apache junction processed\n",
      "57: lebu processed\n",
      "58: albany processed\n",
      "59: pangnirtung processed\n",
      "60: tiksi processed\n",
      "61: punta arenas processed\n",
      "62: guilin processed\n",
      "Missing field ... skipping. Total missing cities: 7.\n",
      "64: medea processed\n",
      "65: chokurdakh processed\n",
      "66: lavrentiya processed\n",
      "67: mogadishu processed\n",
      "68: castro processed\n",
      "69: sangar processed\n",
      "70: rikitea processed\n",
      "71: caravelas processed\n",
      "72: hobyo processed\n",
      "73: narsaq processed\n",
      "74: port lincoln processed\n",
      "75: san juan processed\n",
      "76: riberalta processed\n",
      "77: saint anthony processed\n",
      "78: souillac processed\n",
      "79: tura processed\n",
      "80: muros processed\n",
      "81: mahebourg processed\n",
      "82: grindavik processed\n",
      "83: cabo san lucas processed\n",
      "Missing field ... skipping. Total missing cities: 8.\n",
      "85: wisconsin rapids processed\n",
      "86: namibe processed\n",
      "87: kruisfontein processed\n",
      "88: sorland processed\n",
      "89: lompoc processed\n",
      "90: pisco processed\n",
      "91: kapaa processed\n",
      "92: tekeli processed\n",
      "93: araouane processed\n",
      "Missing field ... skipping. Total missing cities: 9.\n",
      "95: moindou processed\n",
      "96: san jose processed\n",
      "97: ancud processed\n",
      "98: guerrero negro processed\n",
      "99: nanakuli processed\n",
      "Missing field ... skipping. Total missing cities: 10.\n",
      "101: iqaluit processed\n",
      "102: husavik processed\n",
      "103: puerto ayora processed\n",
      "104: okato processed\n",
      "105: norman wells processed\n",
      "106: faanui processed\n",
      "107: karratha processed\n",
      "108: lasa processed\n",
      "109: muroto processed\n",
      "110: kahului processed\n",
      "111: kodiak processed\n",
      "112: wilmington processed\n",
      "113: lipin bor processed\n",
      "114: kavaratti processed\n",
      "115: bambous virieux processed\n",
      "116: batabano processed\n",
      "117: anloga processed\n",
      "118: usinsk processed\n",
      "119: pacific grove processed\n",
      "120: robertsganj processed\n",
      "121: ampanihy processed\n",
      "122: aasiaat processed\n",
      "123: sitka processed\n",
      "Missing field ... skipping. Total missing cities: 11.\n",
      "125: jamestown processed\n",
      "126: hilo processed\n",
      "127: avarua processed\n",
      "Missing field ... skipping. Total missing cities: 12.\n",
      "129: huarmey processed\n",
      "130: gerede processed\n",
      "131: severo-kurilsk processed\n",
      "132: north myrtle beach processed\n",
      "133: talnakh processed\n",
      "Missing field ... skipping. Total missing cities: 13.\n",
      "135: inhambane processed\n",
      "136: coruripe processed\n",
      "137: antofagasta processed\n",
      "138: longyearbyen processed\n",
      "139: ulvik processed\n",
      "140: carnarvon processed\n",
      "141: urucara processed\n",
      "142: atuona processed\n",
      "143: byron bay processed\n",
      "144: mar del plata processed\n",
      "145: petropavlovsk-kamchatskiy processed\n",
      "146: arandis processed\n",
      "Missing field ... skipping. Total missing cities: 14.\n",
      "148: rafai processed\n",
      "149: dali processed\n",
      "Missing field ... skipping. Total missing cities: 15.\n",
      "151: marion processed\n",
      "152: sao joao da barra processed\n",
      "153: bayir processed\n",
      "154: padang processed\n",
      "155: quelimane processed\n",
      "156: salalah processed\n",
      "157: indramayu processed\n",
      "158: saint-georges processed\n",
      "159: araceli processed\n",
      "160: beira processed\n",
      "161: krasnoselkup processed\n",
      "162: saldanha processed\n",
      "163: shimoda processed\n",
      "164: egvekinot processed\n",
      "165: saint-francois processed\n",
      "166: olafsvik processed\n",
      "167: macae processed\n",
      "168: leticia processed\n",
      "169: srikakulam processed\n",
      "170: xining processed\n",
      "171: west wendover processed\n",
      "172: tashla processed\n",
      "Missing field ... skipping. Total missing cities: 16.\n",
      "174: san ramon processed\n",
      "175: godalming processed\n",
      "176: ende processed\n",
      "177: vestmannaeyjar processed\n",
      "178: hambantota processed\n",
      "179: ribeira grande processed\n",
      "180: esperance processed\n",
      "181: peniche processed\n",
      "182: lumsden processed\n",
      "183: idrinskoye processed\n",
      "184: shenjiamen processed\n",
      "185: hovd processed\n",
      "186: ponta do sol processed\n",
      "Missing field ... skipping. Total missing cities: 17.\n",
      "188: ust-nera processed\n",
      "189: sao filipe processed\n",
      "190: upernavik processed\n",
      "191: darhan processed\n",
      "192: cape canaveral processed\n",
      "193: morondava processed\n",
      "194: beringovskiy processed\n",
      "Missing field ... skipping. Total missing cities: 18.\n",
      "Missing field ... skipping. Total missing cities: 19.\n",
      "197: kissidougou processed\n",
      "198: east london processed\n",
      "Missing field ... skipping. Total missing cities: 20.\n",
      "200: coihaique processed\n",
      "201: bageshwar processed\n",
      "202: villa carlos paz processed\n",
      "203: touros processed\n",
      "204: tsumeb processed\n",
      "205: anadyr processed\n",
      "206: clyde river processed\n",
      "207: limon processed\n",
      "208: caiaponia processed\n",
      "209: kyshtovka processed\n",
      "210: trieste processed\n",
      "Missing field ... skipping. Total missing cities: 21.\n",
      "212: tambura processed\n",
      "213: ulaanbaatar processed\n",
      "214: the valley processed\n",
      "215: forestville processed\n",
      "Missing field ... skipping. Total missing cities: 22.\n",
      "217: tuatapere processed\n",
      "218: thinadhoo processed\n",
      "219: fortuna processed\n",
      "Missing field ... skipping. Total missing cities: 23.\n",
      "221: arraial do cabo processed\n",
      "222: zhigansk processed\n",
      "223: concepcion del uruguay processed\n",
      "224: bagdarin processed\n",
      "225: chuy processed\n",
      "Missing field ... skipping. Total missing cities: 24.\n",
      "227: sembakung processed\n",
      "228: lagoa processed\n",
      "229: saskylakh processed\n",
      "230: klaksvik processed\n",
      "231: colares processed\n",
      "232: korla processed\n",
      "233: nyaunglebin processed\n",
      "234: aksu processed\n",
      "235: point pleasant processed\n",
      "236: codrington processed\n",
      "237: college processed\n",
      "238: praia da vitoria processed\n",
      "Missing field ... skipping. Total missing cities: 25.\n",
      "240: jieshi processed\n",
      "241: nouadhibou processed\n",
      "242: gillette processed\n",
      "243: naze processed\n",
      "244: half moon bay processed\n",
      "245: kununurra processed\n",
      "246: adrar processed\n",
      "Missing field ... skipping. Total missing cities: 26.\n",
      "248: port blair processed\n",
      "Missing field ... skipping. Total missing cities: 27.\n",
      "250: puerto del rosario processed\n",
      "251: avera processed\n",
      "252: port elizabeth processed\n",
      "253: bentiu processed\n",
      "Missing field ... skipping. Total missing cities: 28.\n",
      "255: puyang processed\n",
      "256: porto novo processed\n",
      "257: tharad processed\n",
      "258: brae processed\n",
      "259: qasigiannguit processed\n",
      "Missing field ... skipping. Total missing cities: 29.\n",
      "261: kenai processed\n",
      "262: nabire processed\n",
      "263: tomari processed\n",
      "264: hithadhoo processed\n",
      "265: ixtapa processed\n",
      "266: jamu mare processed\n",
      "267: geraldton processed\n",
      "268: jinan processed\n",
      "269: airai processed\n",
      "270: banda aceh processed\n",
      "271: san cristobal processed\n",
      "272: la ronge processed\n",
      "273: bathsheba processed\n",
      "274: bilibino processed\n",
      "275: zhezkazgan processed\n",
      "276: chapais processed\n",
      "277: nome processed\n",
      "278: jati processed\n",
      "279: comarapa processed\n",
      "280: vila velha processed\n",
      "Missing field ... skipping. Total missing cities: 30.\n",
      "Missing field ... skipping. Total missing cities: 31.\n",
      "283: polunochnoye processed\n",
      "284: alofi processed\n",
      "285: ganzhou processed\n",
      "286: bulzesti processed\n",
      "287: khasan processed\n",
      "288: hohhot processed\n",
      "289: namatanai processed\n",
      "290: hede processed\n",
      "291: colborne processed\n",
      "292: kikwit processed\n",
      "293: honningsvag processed\n",
      "Missing field ... skipping. Total missing cities: 32.\n",
      "295: okha processed\n",
      "296: portland processed\n",
      "297: katsuura processed\n",
      "298: thetford mines processed\n"
     ]
    },
    {
     "name": "stdout",
     "output_type": "stream",
     "text": [
      "299: waipawa processed\n",
      "300: buala processed\n",
      "Missing field ... skipping. Total missing cities: 33.\n",
      "302: flinders processed\n",
      "303: venice processed\n",
      "304: kamenka processed\n",
      "305: srednekolymsk processed\n",
      "306: ulety processed\n",
      "307: biak processed\n",
      "308: port-gentil processed\n",
      "309: alice springs processed\n",
      "310: makaryev processed\n",
      "311: homer processed\n",
      "312: prado processed\n",
      "313: christchurch processed\n",
      "314: kpalime processed\n",
      "315: sumbe processed\n",
      "316: yeppoon processed\n",
      "317: itarema processed\n",
      "318: lorengau processed\n",
      "319: pangkalanbuun processed\n",
      "320: bam processed\n",
      "321: kanaya processed\n",
      "322: aklavik processed\n",
      "323: port macquarie processed\n",
      "324: cobija processed\n",
      "325: belaya gora processed\n",
      "326: dingle processed\n",
      "327: abu kamal processed\n",
      "328: ulladulla processed\n",
      "329: moerai processed\n",
      "Missing field ... skipping. Total missing cities: 34.\n",
      "331: huanren processed\n",
      "332: maragogi processed\n",
      "333: suntar processed\n",
      "334: marrakesh processed\n",
      "335: biryusinsk processed\n",
      "336: veraval processed\n",
      "337: necochea processed\n",
      "338: ostrovnoy processed\n",
      "Missing field ... skipping. Total missing cities: 35.\n",
      "340: varzelandia processed\n",
      "341: benghazi processed\n",
      "342: provideniya processed\n",
      "343: bestobe processed\n",
      "344: torrington processed\n",
      "345: marsh harbour processed\n",
      "346: gioia tauro processed\n",
      "347: ravar processed\n",
      "348: ketchikan processed\n",
      "349: port-cartier processed\n",
      "Missing field ... skipping. Total missing cities: 36.\n",
      "351: alta gracia processed\n",
      "352: vizinga processed\n",
      "353: de-kastri processed\n",
      "354: sri aman processed\n",
      "355: shenzhen processed\n",
      "356: rorvik processed\n",
      "357: mnogovershinnyy processed\n",
      "358: villa maria processed\n",
      "359: macamic processed\n",
      "360: manali processed\n",
      "361: thohoyandou processed\n",
      "362: aberdeen processed\n",
      "363: yar-sale processed\n",
      "364: somerset processed\n",
      "365: kudahuvadhoo processed\n",
      "366: abashiri processed\n",
      "367: ruteng processed\n",
      "Missing field ... skipping. Total missing cities: 37.\n",
      "369: mairana processed\n",
      "Missing field ... skipping. Total missing cities: 38.\n",
      "371: japura processed\n",
      "372: quatre cocos processed\n",
      "373: erzin processed\n",
      "374: agua verde processed\n",
      "375: verkhnyaya inta processed\n",
      "376: hargeysa processed\n",
      "377: taoudenni processed\n",
      "378: saint george processed\n",
      "379: severodvinsk processed\n",
      "380: scottsboro processed\n",
      "381: fortuna foothills processed\n",
      "382: lagos processed\n",
      "383: bandarbeyla processed\n",
      "384: lalitpur processed\n",
      "385: barcelos processed\n",
      "386: vila franca do campo processed\n",
      "387: cabadiangan processed\n",
      "388: san quintin processed\n",
      "389: bakchar processed\n",
      "390: emerald processed\n",
      "391: manyana processed\n",
      "392: qui nhon processed\n",
      "393: mount gambier processed\n",
      "394: shamary processed\n",
      "395: turukhansk processed\n",
      "396: dauriya processed\n",
      "397: kharp processed\n",
      "398: kuminskiy processed\n",
      "399: puerto cabezas processed\n",
      "Missing field ... skipping. Total missing cities: 39.\n",
      "401: saint-pierre processed\n",
      "402: brunswick processed\n",
      "Missing field ... skipping. Total missing cities: 40.\n",
      "404: oum hadjer processed\n",
      "405: przhevalskoye processed\n",
      "406: marystown processed\n",
      "407: mayo processed\n",
      "408: kanigoro processed\n",
      "409: bonavista processed\n",
      "410: orange cove processed\n",
      "411: arimalam processed\n",
      "412: kholodnyy processed\n",
      "413: arlit processed\n",
      "414: calarasi processed\n",
      "415: cuxhaven processed\n",
      "416: narrabri processed\n",
      "417: neiafu processed\n",
      "418: san andres processed\n",
      "419: kondinskoye processed\n",
      "420: floro processed\n",
      "421: la rioja processed\n",
      "422: lebyazhye processed\n",
      "423: coahuayana processed\n",
      "Missing field ... skipping. Total missing cities: 41.\n",
      "425: bairiki processed\n",
      "426: vanavara processed\n",
      "427: tocopilla processed\n",
      "428: haines junction processed\n",
      "429: saint andrews processed\n",
      "430: kieta processed\n",
      "431: sinnamary processed\n",
      "432: westport processed\n",
      "433: cacule processed\n",
      "434: bengkulu processed\n",
      "435: bokoro processed\n",
      "Missing field ... skipping. Total missing cities: 42.\n",
      "437: kaitangata processed\n",
      "438: khabarovsk processed\n",
      "439: acapulco processed\n",
      "440: zalesovo processed\n",
      "441: havlickuv brod processed\n",
      "442: mayor pablo lagerenza processed\n",
      "Missing field ... skipping. Total missing cities: 43.\n",
      "444: ugoofaaru processed\n",
      "445: mpika processed\n",
      "446: wahiawa processed\n",
      "Missing field ... skipping. Total missing cities: 44.\n",
      "448: arteaga processed\n",
      "449: vostok processed\n",
      "450: copiapo processed\n",
      "451: mackay processed\n",
      "452: pevek processed\n",
      "453: minas de barroteran processed\n",
      "454: nzega processed\n",
      "455: kamaishi processed\n",
      "456: omboue processed\n",
      "457: nanortalik processed\n",
      "458: port hardy processed\n",
      "459: kavieng processed\n",
      "Missing field ... skipping. Total missing cities: 45.\n",
      "461: mubarakpur processed\n",
      "462: biella processed\n",
      "463: henties bay processed\n",
      "464: turan processed\n",
      "465: riyadh processed\n",
      "466: komsomolskiy processed\n",
      "467: pilar processed\n",
      "468: grand gaube processed\n",
      "469: powell river processed\n",
      "470: seoul processed\n",
      "471: znamenskoye processed\n",
      "472: mae sai processed\n",
      "473: yermolayevo processed\n",
      "Missing field ... skipping. Total missing cities: 46.\n",
      "475: novyy buh processed\n",
      "476: camana processed\n",
      "477: iwaki processed\n",
      "478: ouadda processed\n",
      "479: mananjary processed\n",
      "480: katangli processed\n",
      "481: arman processed\n",
      "482: laurel processed\n",
      "483: golden processed\n",
      "484: tazovskiy processed\n",
      "485: jucurutu processed\n",
      "486: muncar processed\n",
      "487: kloulklubed processed\n",
      "488: taltal processed\n",
      "489: miri processed\n",
      "490: santa marta processed\n",
      "491: creel processed\n",
      "492: richmond processed\n",
      "493: bilma processed\n",
      "494: lodja processed\n",
      "495: victor harbor processed\n",
      "496: mount isa processed\n",
      "497: shwebo processed\n",
      "498: kuusamo processed\n",
      "499: carmelo processed\n",
      "Missing field ... skipping. Total missing cities: 47.\n",
      "501: kalmunai processed\n",
      "502: udachnyy processed\n",
      "503: tutayev processed\n",
      "504: independence processed\n",
      "505: saint-paul processed\n",
      "506: shakiso processed\n",
      "507: torbay processed\n",
      "508: key west processed\n",
      "509: tongliao processed\n",
      "510: san rafael del sur processed\n",
      "511: sur processed\n",
      "512: gorlice processed\n",
      "513: kamina processed\n",
      "514: sayyan processed\n",
      "515: tigil processed\n",
      "516: salinas processed\n",
      "517: kidal processed\n",
      "Missing field ... skipping. Total missing cities: 48.\n",
      "519: ferrol processed\n",
      "Missing field ... skipping. Total missing cities: 49.\n",
      "521: hami processed\n",
      "522: fairbanks processed\n",
      "523: nemuro processed\n",
      "524: inirida processed\n",
      "525: ust-koksa processed\n",
      "526: douglas processed\n",
      "527: rawah processed\n",
      "528: wanning processed\n",
      "529: zhiryatino processed\n",
      "Missing field ... skipping. Total missing cities: 50.\n",
      "531: virden processed\n",
      "Missing field ... skipping. Total missing cities: 51.\n",
      "533: corinto processed\n",
      "534: stephenville processed\n",
      "535: hanna processed\n",
      "536: carnduff processed\n",
      "537: salinopolis processed\n",
      "Missing field ... skipping. Total missing cities: 52.\n",
      "539: rio gallegos processed\n",
      "540: yeniseysk processed\n",
      "541: damietta processed\n",
      "542: andapa processed\n",
      "543: berlevag processed\n",
      "544: clonakilty processed\n",
      "545: ufimskiy processed\n",
      "546: ler processed\n",
      "Missing field ... skipping. Total missing cities: 53.\n",
      "548: duluth processed\n",
      "549: port hedland processed\n",
      "550: kirakira processed\n",
      "551: kisaran processed\n",
      "552: pondicherry processed\n",
      "553: caracoli processed\n",
      "554: nalut processed\n",
      "555: koppies processed\n",
      "Missing field ... skipping. Total missing cities: 54.\n",
      "557: palora processed\n",
      "558: chauk processed\n",
      "559: kandrian processed\n",
      "560: rawlins processed\n",
      "561: meulaboh processed\n",
      "562: morros processed\n",
      "563: ust-kuyga processed\n",
      "564: uglegorsk processed\n",
      "565: raga processed\n",
      "566: los andes processed\n",
      "Missing field ... skipping. Total missing cities: 55.\n",
      "568: abancay processed\n",
      "569: san rafael processed\n",
      "Missing field ... skipping. Total missing cities: 56.\n",
      "571: aktas processed\n",
      "572: grand-santi processed\n",
      "573: sydney processed\n",
      "574: jamame processed\n",
      "575: teguldet processed\n",
      "576: kulhudhuffushi processed\n",
      "577: warmbad processed\n",
      "578: bulawayo processed\n",
      "Missing field ... skipping. Total missing cities: 57.\n",
      "580: omsukchan processed\n",
      "581: novoorsk processed\n",
      "582: mackenzie processed\n",
      "583: cairns processed\n",
      "584: bitung processed\n",
      "Missing field ... skipping. Total missing cities: 58.\n",
      "586: oriximina processed\n",
      "587: voh processed\n",
      "Total missing cities: 58\n"
     ]
    }
   ],
   "source": [
    "# use iterrows to iterate through pandas dataframe\n",
    "missing_cities = 0\n",
    "for index, row in city_df.iterrows():\n",
    "    city = row['cities']\n",
    "    # query the city and convert to json\n",
    "    response = requests.get(query_url + city).json()\n",
    "    #a ppend the weather data to the appropriate column/row\n",
    "    # print(response)\n",
    "    try:\n",
    "        city_df.loc[index, \"wind_speed\"]=response['wind']['speed']\n",
    "        city_df.loc[index, \"cloudiness\"]=response['clouds']['all']\n",
    "        city_df.loc[index, \"latitude\"]=response['coord']['lat']\n",
    "        city_df.loc[index, \"longitude\"]=response['coord']['lon']\n",
    "        city_df.loc[index, \"temp(f)\"]=response['main']['temp']\n",
    "        city_df.loc[index, \"humidity\"]=response['main']['humidity']\n",
    "        print(f\"{index}: {city} processed\")\n",
    "    except (KeyError, IndexError):\n",
    "        missing_cities = missing_cities + 1\n",
    "        print(f\"Can't find #{index}.... skipping. Total missing cities: {missing_cities}.\")\n",
    "        \n",
    " \n",
    "print(f\"Total missing cities: {missing_cities}\")        "
   ]
  },
  {
   "cell_type": "markdown",
   "metadata": {},
   "source": [
    "### Convert Raw Data to DataFrame\n",
    "* Export the city data into a .csv.\n",
    "* Display the DataFrame\n",
    "city_df.head()"
   ]
  },
  {
   "cell_type": "code",
   "execution_count": 18,
   "metadata": {},
   "outputs": [
    {
     "data": {
      "text/html": [
       "<div>\n",
       "<style scoped>\n",
       "    .dataframe tbody tr th:only-of-type {\n",
       "        vertical-align: middle;\n",
       "    }\n",
       "\n",
       "    .dataframe tbody tr th {\n",
       "        vertical-align: top;\n",
       "    }\n",
       "\n",
       "    .dataframe thead th {\n",
       "        text-align: right;\n",
       "    }\n",
       "</style>\n",
       "<table border=\"1\" class=\"dataframe\">\n",
       "  <thead>\n",
       "    <tr style=\"text-align: right;\">\n",
       "      <th></th>\n",
       "      <th>cities</th>\n",
       "      <th>temp(f)</th>\n",
       "      <th>latitude</th>\n",
       "      <th>longitude</th>\n",
       "      <th>humidity</th>\n",
       "      <th>cloudiness</th>\n",
       "      <th>wind_speed</th>\n",
       "    </tr>\n",
       "  </thead>\n",
       "  <tbody>\n",
       "    <tr>\n",
       "      <th>0</th>\n",
       "      <td>leningradskiy</td>\n",
       "      <td>35.28</td>\n",
       "      <td>69.3833</td>\n",
       "      <td>178.4167</td>\n",
       "      <td>93.0</td>\n",
       "      <td>99.0</td>\n",
       "      <td>13.60</td>\n",
       "    </tr>\n",
       "    <tr>\n",
       "      <th>1</th>\n",
       "      <td>dikson</td>\n",
       "      <td>40.60</td>\n",
       "      <td>73.5069</td>\n",
       "      <td>80.5464</td>\n",
       "      <td>99.0</td>\n",
       "      <td>100.0</td>\n",
       "      <td>1.70</td>\n",
       "    </tr>\n",
       "    <tr>\n",
       "      <th>2</th>\n",
       "      <td>constantine</td>\n",
       "      <td>90.81</td>\n",
       "      <td>36.3650</td>\n",
       "      <td>6.6147</td>\n",
       "      <td>33.0</td>\n",
       "      <td>75.0</td>\n",
       "      <td>14.97</td>\n",
       "    </tr>\n",
       "    <tr>\n",
       "      <th>3</th>\n",
       "      <td>butaritari</td>\n",
       "      <td>83.19</td>\n",
       "      <td>3.0707</td>\n",
       "      <td>172.7902</td>\n",
       "      <td>70.0</td>\n",
       "      <td>36.0</td>\n",
       "      <td>9.73</td>\n",
       "    </tr>\n",
       "    <tr>\n",
       "      <th>4</th>\n",
       "      <td>thompson</td>\n",
       "      <td>48.36</td>\n",
       "      <td>55.7435</td>\n",
       "      <td>-97.8558</td>\n",
       "      <td>93.0</td>\n",
       "      <td>20.0</td>\n",
       "      <td>0.00</td>\n",
       "    </tr>\n",
       "  </tbody>\n",
       "</table>\n",
       "</div>"
      ],
      "text/plain": [
       "          cities  temp(f)  latitude  longitude  humidity  cloudiness  \\\n",
       "0  leningradskiy    35.28   69.3833   178.4167      93.0        99.0   \n",
       "1         dikson    40.60   73.5069    80.5464      99.0       100.0   \n",
       "2    constantine    90.81   36.3650     6.6147      33.0        75.0   \n",
       "3     butaritari    83.19    3.0707   172.7902      70.0        36.0   \n",
       "4       thompson    48.36   55.7435   -97.8558      93.0        20.0   \n",
       "\n",
       "   wind_speed  \n",
       "0       13.60  \n",
       "1        1.70  \n",
       "2       14.97  \n",
       "3        9.73  \n",
       "4        0.00  "
      ]
     },
     "execution_count": 18,
     "metadata": {},
     "output_type": "execute_result"
    }
   ],
   "source": [
    "city_df.to_csv(\"../output_data/city_weather.csv\", index=True, header=True)\n",
    "city_df.head()"
   ]
  },
  {
   "cell_type": "code",
   "execution_count": 19,
   "metadata": {},
   "outputs": [
    {
     "data": {
      "text/plain": [
       "cities         object\n",
       "temp(f)       float64\n",
       "latitude      float64\n",
       "longitude     float64\n",
       "humidity      float64\n",
       "cloudiness    float64\n",
       "wind_speed    float64\n",
       "dtype: object"
      ]
     },
     "execution_count": 19,
     "metadata": {},
     "output_type": "execute_result"
    }
   ],
   "source": [
    "city_df.dtypes"
   ]
  },
  {
   "cell_type": "markdown",
   "metadata": {},
   "source": [
    "## Inspect the data and remove the cities where the humidity > 100%.\n",
    "----\n",
    "Skip this step if there are no cities that have humidity > 100%. "
   ]
  },
  {
   "cell_type": "code",
   "execution_count": 32,
   "metadata": {},
   "outputs": [
    {
     "data": {
      "text/plain": [
       "[13,\n",
       " 18,\n",
       " 20,\n",
       " 34,\n",
       " 43,\n",
       " 54,\n",
       " 63,\n",
       " 84,\n",
       " 94,\n",
       " 100,\n",
       " 124,\n",
       " 128,\n",
       " 134,\n",
       " 147,\n",
       " 150,\n",
       " 173,\n",
       " 187,\n",
       " 195,\n",
       " 196,\n",
       " 199,\n",
       " 211,\n",
       " 216,\n",
       " 220,\n",
       " 226,\n",
       " 239,\n",
       " 247,\n",
       " 249,\n",
       " 254,\n",
       " 260,\n",
       " 281,\n",
       " 282,\n",
       " 294,\n",
       " 301,\n",
       " 330,\n",
       " 339,\n",
       " 350,\n",
       " 368,\n",
       " 370,\n",
       " 400,\n",
       " 403,\n",
       " 424,\n",
       " 436,\n",
       " 443,\n",
       " 447,\n",
       " 460,\n",
       " 474,\n",
       " 500,\n",
       " 518,\n",
       " 520,\n",
       " 530,\n",
       " 532,\n",
       " 538,\n",
       " 547,\n",
       " 556,\n",
       " 567,\n",
       " 570,\n",
       " 579,\n",
       " 585]"
      ]
     },
     "execution_count": 32,
     "metadata": {},
     "output_type": "execute_result"
    }
   ],
   "source": [
    "city_df.index[city_df['temp(f)']==0].tolist()\n",
    "# city_df.index[city_df['humidity']>100].tolist()\n",
    "# nothing was returned, so no cities have >100% humidity RIGHT NOW\n",
    "#len(city_df)"
   ]
  },
  {
   "cell_type": "code",
   "execution_count": 33,
   "metadata": {},
   "outputs": [
    {
     "data": {
      "text/plain": [
       "58"
      ]
     },
     "execution_count": 33,
     "metadata": {},
     "output_type": "execute_result"
    }
   ],
   "source": [
    "#  Get the indices of cities that have humidity over 100%. Right now there are none\n",
    "humidity_err = city_df.index[city_df['temp(f)']==0].tolist()\n",
    "len(humidity_err)"
   ]
  },
  {
   "cell_type": "code",
   "execution_count": 34,
   "metadata": {},
   "outputs": [
    {
     "data": {
      "text/plain": [
       "530"
      ]
     },
     "execution_count": 34,
     "metadata": {},
     "output_type": "execute_result"
    }
   ],
   "source": [
    "# Make a new DataFrame equal to the city data to drop all humidity outliers by index.\n",
    "# Passing \"inplace=False\" will make a copy of the city_data DataFrame, which we call \"clean_city_data\".\n",
    "clean_city_data = city_df.drop(index=humidity_err, inplace=False)\n",
    "len(clean_city_data)"
   ]
  },
  {
   "cell_type": "code",
   "execution_count": 35,
   "metadata": {},
   "outputs": [
    {
     "data": {
      "text/html": [
       "<div>\n",
       "<style scoped>\n",
       "    .dataframe tbody tr th:only-of-type {\n",
       "        vertical-align: middle;\n",
       "    }\n",
       "\n",
       "    .dataframe tbody tr th {\n",
       "        vertical-align: top;\n",
       "    }\n",
       "\n",
       "    .dataframe thead th {\n",
       "        text-align: right;\n",
       "    }\n",
       "</style>\n",
       "<table border=\"1\" class=\"dataframe\">\n",
       "  <thead>\n",
       "    <tr style=\"text-align: right;\">\n",
       "      <th></th>\n",
       "      <th>cities</th>\n",
       "      <th>temp(f)</th>\n",
       "      <th>latitude</th>\n",
       "      <th>longitude</th>\n",
       "      <th>humidity</th>\n",
       "      <th>cloudiness</th>\n",
       "      <th>wind_speed</th>\n",
       "    </tr>\n",
       "  </thead>\n",
       "  <tbody>\n",
       "    <tr>\n",
       "      <th>0</th>\n",
       "      <td>leningradskiy</td>\n",
       "      <td>35.28</td>\n",
       "      <td>69.3833</td>\n",
       "      <td>178.4167</td>\n",
       "      <td>93.0</td>\n",
       "      <td>99.0</td>\n",
       "      <td>13.60</td>\n",
       "    </tr>\n",
       "    <tr>\n",
       "      <th>1</th>\n",
       "      <td>dikson</td>\n",
       "      <td>40.60</td>\n",
       "      <td>73.5069</td>\n",
       "      <td>80.5464</td>\n",
       "      <td>99.0</td>\n",
       "      <td>100.0</td>\n",
       "      <td>1.70</td>\n",
       "    </tr>\n",
       "    <tr>\n",
       "      <th>2</th>\n",
       "      <td>constantine</td>\n",
       "      <td>90.81</td>\n",
       "      <td>36.3650</td>\n",
       "      <td>6.6147</td>\n",
       "      <td>33.0</td>\n",
       "      <td>75.0</td>\n",
       "      <td>14.97</td>\n",
       "    </tr>\n",
       "    <tr>\n",
       "      <th>3</th>\n",
       "      <td>butaritari</td>\n",
       "      <td>83.19</td>\n",
       "      <td>3.0707</td>\n",
       "      <td>172.7902</td>\n",
       "      <td>70.0</td>\n",
       "      <td>36.0</td>\n",
       "      <td>9.73</td>\n",
       "    </tr>\n",
       "    <tr>\n",
       "      <th>4</th>\n",
       "      <td>thompson</td>\n",
       "      <td>48.36</td>\n",
       "      <td>55.7435</td>\n",
       "      <td>-97.8558</td>\n",
       "      <td>93.0</td>\n",
       "      <td>20.0</td>\n",
       "      <td>0.00</td>\n",
       "    </tr>\n",
       "  </tbody>\n",
       "</table>\n",
       "</div>"
      ],
      "text/plain": [
       "          cities  temp(f)  latitude  longitude  humidity  cloudiness  \\\n",
       "0  leningradskiy    35.28   69.3833   178.4167      93.0        99.0   \n",
       "1         dikson    40.60   73.5069    80.5464      99.0       100.0   \n",
       "2    constantine    90.81   36.3650     6.6147      33.0        75.0   \n",
       "3     butaritari    83.19    3.0707   172.7902      70.0        36.0   \n",
       "4       thompson    48.36   55.7435   -97.8558      93.0        20.0   \n",
       "\n",
       "   wind_speed  \n",
       "0       13.60  \n",
       "1        1.70  \n",
       "2       14.97  \n",
       "3        9.73  \n",
       "4        0.00  "
      ]
     },
     "execution_count": 35,
     "metadata": {},
     "output_type": "execute_result"
    }
   ],
   "source": [
    "\n",
    "clean_city_data.head()"
   ]
  },
  {
   "cell_type": "markdown",
   "metadata": {},
   "source": [
    "## Plotting the Data\n",
    "* Use proper labeling of the plots using plot titles (including date of analysis) and axes labels.\n",
    "* Save the plotted figures as .pngs."
   ]
  },
  {
   "cell_type": "markdown",
   "metadata": {},
   "source": [
    "## Latitude vs. Temperature Plot"
   ]
  },
  {
   "cell_type": "code",
   "execution_count": 95,
   "metadata": {
    "scrolled": true
   },
   "outputs": [
    {
     "data": {
      "image/png": "[encoded data removed]",
      "text/plain": [
       "<Figure size 432x288 with 1 Axes>"
      ]
     },
     "metadata": {
      "needs_background": "light"
     },
     "output_type": "display_data"
    },
    {
     "name": "stdout",
     "output_type": "stream",
     "text": [
      "The correlation between Latitude and Temperature (F) is (-0.03659263736647639, 0.4005057367910128)\n",
      "The regression equation is y = -0.02x + 69.54. \n",
      "The r-squared is: 0.0013390211094344434 with a p value of 0.40050573679085033.\n"
     ]
    }
   ],
   "source": [
    "x_values = clean_city_data[\"latitude\"]\n",
    "y_values= clean_city_data[\"temp(f)\"]\n",
    "correlation = st.pearsonr(x_values, y_values)\n",
    "x_label = \"Latitude\"\n",
    "y_label = \"Temperature (F)\"\n",
    "\n",
    "# Add the linear regression equation and line to plot\n",
    "(slope, intercept, rvalue, pvalue, stderr) = linregress(x_values, y_values)\n",
    "regress_values = x_values * slope + intercept\n",
    "line_eq = (\"y = \" + str(round(slope,2)) + \"x + \" + str(round(intercept,2)))\n",
    "plt.scatter(x_values,y_values)\n",
    "plt.plot(x_values,regress_values,\"r-\")\n",
    "min_x = x_values.min()\n",
    "min_y = y_values.min()\n",
    "plt.annotate(line_eq,(min_x,min_y),fontsize=15,color=\"red\")\n",
    "plt.xlabel(x_label)\n",
    "plt.ylabel(y_label)\n",
    "plt.title('data as of 8/1/2021')\n",
    "plt.suptitle(f'{x_label} vs. {y_label}')\n",
    "plt.legend(line_eq, loc = \"upper left\")\n",
    "plt.savefig(f\"../output_data/{x_label}_{y_label}.png\")\n",
    "plt.show()\n",
    "print(f\"The correlation between {x_label} and {y_label} is {correlation}\")\n",
    "print(f\"The regression equation is {line_eq}. \")\n",
    "print(f\"The r-squared is: {rvalue**2} with a p value of {pvalue}.\")\n",
    "\n"
   ]
  },
  {
   "cell_type": "markdown",
   "metadata": {},
   "source": [
    "## Latitude vs. Humidity Plot"
   ]
  },
  {
   "cell_type": "code",
   "execution_count": 96,
   "metadata": {},
   "outputs": [
    {
     "data": {
      "image/png": "[encoded data removed]",
      "text/plain": [
       "<Figure size 432x288 with 1 Axes>"
      ]
     },
     "metadata": {
      "needs_background": "light"
     },
     "output_type": "display_data"
    },
    {
     "name": "stdout",
     "output_type": "stream",
     "text": [
      "The correlation between Latitude and Humidity is (0.07885045176651834, 0.069706576718599)\n",
      "The regression equation is y = 0.05x + 68.07. \n",
      "The r-squared is: 0.0062173937437840394 with a p value of 0.06970657671857085.\n"
     ]
    }
   ],
   "source": [
    "x_values = clean_city_data[\"latitude\"]\n",
    "y_values= clean_city_data[\"humidity\"]\n",
    "correlation = st.pearsonr(x_values, y_values)\n",
    "x_label = \"Latitude\"\n",
    "y_label = \"Humidity\"\n",
    "\n",
    "# Add the linear regression equation and line to plot\n",
    "(slope, intercept, rvalue, pvalue, stderr) = linregress(x_values, y_values)\n",
    "regress_values = x_values * slope + intercept\n",
    "line_eq = (\"y = \" + str(round(slope,2)) + \"x + \" + str(round(intercept,2)))\n",
    "plt.scatter(x_values,y_values)\n",
    "plt.plot(x_values,regress_values,\"r-\")\n",
    "min_x = x_values.min()\n",
    "min_y = y_values.min()\n",
    "plt.annotate(line_eq,(min_x,min_y),fontsize=15,color=\"red\")\n",
    "plt.xlabel(x_label)\n",
    "plt.ylabel(y_label)\n",
    "plt.title('data as of 8/1/2021')\n",
    "plt.suptitle(f'{x_label} vs. {y_label}')\n",
    "plt.legend(line_eq, loc = \"upper left\")\n",
    "plt.savefig(f\"../output_data/{x_label}_{y_label}.png\")\n",
    "plt.show()\n",
    "print(f\"The correlation between {x_label} and {y_label} is {correlation}\")\n",
    "print(f\"The regression equation is {line_eq}. \")\n",
    "print(f\"The r-squared is: {rvalue**2} with a p value of {pvalue}.\")\n"
   ]
  },
  {
   "cell_type": "markdown",
   "metadata": {},
   "source": [
    "## Latitude vs. Cloudiness Plot"
   ]
  },
  {
   "cell_type": "code",
   "execution_count": 97,
   "metadata": {},
   "outputs": [
    {
     "data": {
      "image/png": "[encoded data removed]",
      "text/plain": [
       "<Figure size 432x288 with 1 Axes>"
      ]
     },
     "metadata": {
      "needs_background": "light"
     },
     "output_type": "display_data"
    },
    {
     "name": "stdout",
     "output_type": "stream",
     "text": [
      "The correlation between Latitude and Cloudiness is (0.1177074740133768, 0.006670367662198577)\n",
      "The regression equation is y = 0.13x + 52.26. \n",
      "The r-squared is: 0.01385504943860977 with a p value of 0.006670367662195922.\n"
     ]
    }
   ],
   "source": [
    "x_values = clean_city_data[\"latitude\"]\n",
    "y_values= clean_city_data[\"cloudiness\"]\n",
    "correlation = st.pearsonr(x_values, y_values)\n",
    "x_label = \"Latitude\"\n",
    "y_label = \"Cloudiness\"\n",
    "\n",
    "# Add the linear regression equation and line to plot\n",
    "(slope, intercept, rvalue, pvalue, stderr) = linregress(x_values, y_values)\n",
    "regress_values = x_values * slope + intercept\n",
    "line_eq = (\"y = \" + str(round(slope,2)) + \"x + \" + str(round(intercept,2)))\n",
    "plt.scatter(x_values,y_values)\n",
    "plt.plot(x_values,regress_values,\"r-\")\n",
    "min_x = x_values.min()\n",
    "min_y = y_values.min()\n",
    "plt.annotate(line_eq,(min_x,min_y),fontsize=15,color=\"red\")\n",
    "plt.xlabel(x_label)\n",
    "plt.ylabel(y_label)\n",
    "plt.title('data as of 8/1/2021')\n",
    "plt.suptitle(f'{x_label} vs. {y_label}')\n",
    "plt.legend(line_eq, loc = \"upper left\")\n",
    "plt.savefig(f\"../output_data/{x_label}_{y_label}.png\")\n",
    "plt.show()\n",
    "print(f\"The correlation between {x_label} and {y_label} is {correlation}\")\n",
    "print(f\"The regression equation is {line_eq}. \")\n",
    "print(f\"The r-squared is: {rvalue**2} with a p value of {pvalue}.\")"
   ]
  },
  {
   "cell_type": "markdown",
   "metadata": {},
   "source": [
    "## Latitude vs. Wind Speed Plot"
   ]
  },
  {
   "cell_type": "code",
   "execution_count": 98,
   "metadata": {},
   "outputs": [
    {
     "data": {
      "image/png": "[encoded data removed]",
      "text/plain": [
       "<Figure size 432x288 with 1 Axes>"
      ]
     },
     "metadata": {
      "needs_background": "light"
     },
     "output_type": "display_data"
    },
    {
     "name": "stdout",
     "output_type": "stream",
     "text": [
      "The correlation between Latitude and Wind Speed is (-0.11122213099508901, 0.010394110046698345)\n",
      "The regression equation is y = -0.02x + 8.26. \n",
      "The r-squared is: 0.012370362423088725 with a p value of 0.010394110046694126.\n"
     ]
    }
   ],
   "source": [
    "x_values = clean_city_data[\"latitude\"]\n",
    "y_values= clean_city_data[\"wind_speed\"]\n",
    "correlation = st.pearsonr(x_values, y_values)\n",
    "x_label = \"Latitude\"\n",
    "y_label = \"Wind Speed\"\n",
    "\n",
    "# Add the linear regression equation and line to plot\n",
    "(slope, intercept, rvalue, pvalue, stderr) = linregress(x_values, y_values)\n",
    "regress_values = x_values * slope + intercept\n",
    "line_eq = (\"y = \" + str(round(slope,2)) + \"x + \" + str(round(intercept,2)))\n",
    "plt.scatter(x_values,y_values)\n",
    "plt.plot(x_values,regress_values,\"r-\")\n",
    "min_x = x_values.min()\n",
    "min_y = y_values.min()\n",
    "plt.annotate(line_eq,(min_x,min_y),fontsize=15,color=\"red\")\n",
    "plt.xlabel(x_label)\n",
    "plt.ylabel(y_label)\n",
    "plt.title('data as of 8/1/2021')\n",
    "plt.suptitle(f'{x_label} vs. {y_label}')\n",
    "plt.legend(line_eq, loc = \"upper left\")\n",
    "plt.savefig(f\"../output_data/{x_label}_{y_label}.png\")\n",
    "plt.show()\n",
    "print(f\"The correlation between {x_label} and {y_label} is {correlation}\")\n",
    "print(f\"The regression equation is {line_eq}. \")\n",
    "print(f\"The r-squared is: {rvalue**2} with a p value of {pvalue}.\")"
   ]
  },
  {
   "cell_type": "markdown",
   "metadata": {},
   "source": [
    "## Linear Regression"
   ]
  },
  {
   "cell_type": "code",
   "execution_count": 55,
   "metadata": {},
   "outputs": [
    {
     "data": {
      "text/plain": [
       "366"
      ]
     },
     "execution_count": 55,
     "metadata": {},
     "output_type": "execute_result"
    }
   ],
   "source": [
    "# create northern hemisphere data\n",
    "#  Get the indices of cities that have humidity over 100%. Right now there are none\n",
    "drop_shemisphere = clean_city_data.index[clean_city_data['latitude']<0].tolist()\n",
    "# Make a new DataFrame equal to the city data to drop all humidity outliers by index.\n",
    "# Passing \"inplace=False\" will make a copy of the city_data DataFrame, which we call \"clean_city_data\".\n",
    "northern_data = clean_city_data.drop(index=drop_shemisphere, inplace=False)\n",
    "len(northern_data)"
   ]
  },
  {
   "cell_type": "code",
   "execution_count": 56,
   "metadata": {},
   "outputs": [
    {
     "data": {
      "text/html": [
       "<div>\n",
       "<style scoped>\n",
       "    .dataframe tbody tr th:only-of-type {\n",
       "        vertical-align: middle;\n",
       "    }\n",
       "\n",
       "    .dataframe tbody tr th {\n",
       "        vertical-align: top;\n",
       "    }\n",
       "\n",
       "    .dataframe thead th {\n",
       "        text-align: right;\n",
       "    }\n",
       "</style>\n",
       "<table border=\"1\" class=\"dataframe\">\n",
       "  <thead>\n",
       "    <tr style=\"text-align: right;\">\n",
       "      <th></th>\n",
       "      <th>cities</th>\n",
       "      <th>temp(f)</th>\n",
       "      <th>latitude</th>\n",
       "      <th>longitude</th>\n",
       "      <th>humidity</th>\n",
       "      <th>cloudiness</th>\n",
       "      <th>wind_speed</th>\n",
       "    </tr>\n",
       "  </thead>\n",
       "  <tbody>\n",
       "    <tr>\n",
       "      <th>0</th>\n",
       "      <td>leningradskiy</td>\n",
       "      <td>35.28</td>\n",
       "      <td>69.3833</td>\n",
       "      <td>178.4167</td>\n",
       "      <td>93.0</td>\n",
       "      <td>99.0</td>\n",
       "      <td>13.60</td>\n",
       "    </tr>\n",
       "    <tr>\n",
       "      <th>1</th>\n",
       "      <td>dikson</td>\n",
       "      <td>40.60</td>\n",
       "      <td>73.5069</td>\n",
       "      <td>80.5464</td>\n",
       "      <td>99.0</td>\n",
       "      <td>100.0</td>\n",
       "      <td>1.70</td>\n",
       "    </tr>\n",
       "    <tr>\n",
       "      <th>2</th>\n",
       "      <td>constantine</td>\n",
       "      <td>90.81</td>\n",
       "      <td>36.3650</td>\n",
       "      <td>6.6147</td>\n",
       "      <td>33.0</td>\n",
       "      <td>75.0</td>\n",
       "      <td>14.97</td>\n",
       "    </tr>\n",
       "    <tr>\n",
       "      <th>3</th>\n",
       "      <td>butaritari</td>\n",
       "      <td>83.19</td>\n",
       "      <td>3.0707</td>\n",
       "      <td>172.7902</td>\n",
       "      <td>70.0</td>\n",
       "      <td>36.0</td>\n",
       "      <td>9.73</td>\n",
       "    </tr>\n",
       "    <tr>\n",
       "      <th>4</th>\n",
       "      <td>thompson</td>\n",
       "      <td>48.36</td>\n",
       "      <td>55.7435</td>\n",
       "      <td>-97.8558</td>\n",
       "      <td>93.0</td>\n",
       "      <td>20.0</td>\n",
       "      <td>0.00</td>\n",
       "    </tr>\n",
       "  </tbody>\n",
       "</table>\n",
       "</div>"
      ],
      "text/plain": [
       "          cities  temp(f)  latitude  longitude  humidity  cloudiness  \\\n",
       "0  leningradskiy    35.28   69.3833   178.4167      93.0        99.0   \n",
       "1         dikson    40.60   73.5069    80.5464      99.0       100.0   \n",
       "2    constantine    90.81   36.3650     6.6147      33.0        75.0   \n",
       "3     butaritari    83.19    3.0707   172.7902      70.0        36.0   \n",
       "4       thompson    48.36   55.7435   -97.8558      93.0        20.0   \n",
       "\n",
       "   wind_speed  \n",
       "0       13.60  \n",
       "1        1.70  \n",
       "2       14.97  \n",
       "3        9.73  \n",
       "4        0.00  "
      ]
     },
     "execution_count": 56,
     "metadata": {},
     "output_type": "execute_result"
    }
   ],
   "source": [
    "northern_data.head()"
   ]
  },
  {
   "cell_type": "code",
   "execution_count": 57,
   "metadata": {},
   "outputs": [
    {
     "data": {
      "text/plain": [
       "164"
      ]
     },
     "execution_count": 57,
     "metadata": {},
     "output_type": "execute_result"
    }
   ],
   "source": [
    "# create southern hemisphere data\n",
    "#  Get the indices of cities that have lat >= 0 (north).\n",
    "drop_nhemisphere = clean_city_data.index[clean_city_data['latitude']>=0].tolist()\n",
    "# Make a new DataFrame equal to the city data to drop all humidity outliers by index.\n",
    "# Passing \"inplace=False\" will make a copy of the city_data DataFrame, which we call \"clean_city_data\".\n",
    "southern_data = clean_city_data.drop(index=drop_nhemisphere, inplace=False)\n",
    "len(southern_data)"
   ]
  },
  {
   "cell_type": "code",
   "execution_count": 58,
   "metadata": {},
   "outputs": [
    {
     "data": {
      "text/html": [
       "<div>\n",
       "<style scoped>\n",
       "    .dataframe tbody tr th:only-of-type {\n",
       "        vertical-align: middle;\n",
       "    }\n",
       "\n",
       "    .dataframe tbody tr th {\n",
       "        vertical-align: top;\n",
       "    }\n",
       "\n",
       "    .dataframe thead th {\n",
       "        text-align: right;\n",
       "    }\n",
       "</style>\n",
       "<table border=\"1\" class=\"dataframe\">\n",
       "  <thead>\n",
       "    <tr style=\"text-align: right;\">\n",
       "      <th></th>\n",
       "      <th>cities</th>\n",
       "      <th>temp(f)</th>\n",
       "      <th>latitude</th>\n",
       "      <th>longitude</th>\n",
       "      <th>humidity</th>\n",
       "      <th>cloudiness</th>\n",
       "      <th>wind_speed</th>\n",
       "    </tr>\n",
       "  </thead>\n",
       "  <tbody>\n",
       "    <tr>\n",
       "      <th>5</th>\n",
       "      <td>hobart</td>\n",
       "      <td>41.90</td>\n",
       "      <td>-42.8794</td>\n",
       "      <td>147.3294</td>\n",
       "      <td>75.0</td>\n",
       "      <td>20.0</td>\n",
       "      <td>1.99</td>\n",
       "    </tr>\n",
       "    <tr>\n",
       "      <th>6</th>\n",
       "      <td>soyo</td>\n",
       "      <td>75.25</td>\n",
       "      <td>-6.1349</td>\n",
       "      <td>12.3689</td>\n",
       "      <td>66.0</td>\n",
       "      <td>55.0</td>\n",
       "      <td>9.15</td>\n",
       "    </tr>\n",
       "    <tr>\n",
       "      <th>7</th>\n",
       "      <td>port alfred</td>\n",
       "      <td>70.34</td>\n",
       "      <td>-33.5906</td>\n",
       "      <td>26.8910</td>\n",
       "      <td>53.0</td>\n",
       "      <td>91.0</td>\n",
       "      <td>22.17</td>\n",
       "    </tr>\n",
       "    <tr>\n",
       "      <th>8</th>\n",
       "      <td>new norfolk</td>\n",
       "      <td>39.97</td>\n",
       "      <td>-42.7826</td>\n",
       "      <td>147.0587</td>\n",
       "      <td>76.0</td>\n",
       "      <td>12.0</td>\n",
       "      <td>1.01</td>\n",
       "    </tr>\n",
       "    <tr>\n",
       "      <th>11</th>\n",
       "      <td>hermanus</td>\n",
       "      <td>62.80</td>\n",
       "      <td>-34.4187</td>\n",
       "      <td>19.2345</td>\n",
       "      <td>72.0</td>\n",
       "      <td>71.0</td>\n",
       "      <td>15.14</td>\n",
       "    </tr>\n",
       "  </tbody>\n",
       "</table>\n",
       "</div>"
      ],
      "text/plain": [
       "         cities  temp(f)  latitude  longitude  humidity  cloudiness  \\\n",
       "5        hobart    41.90  -42.8794   147.3294      75.0        20.0   \n",
       "6          soyo    75.25   -6.1349    12.3689      66.0        55.0   \n",
       "7   port alfred    70.34  -33.5906    26.8910      53.0        91.0   \n",
       "8   new norfolk    39.97  -42.7826   147.0587      76.0        12.0   \n",
       "11     hermanus    62.80  -34.4187    19.2345      72.0        71.0   \n",
       "\n",
       "    wind_speed  \n",
       "5         1.99  \n",
       "6         9.15  \n",
       "7        22.17  \n",
       "8         1.01  \n",
       "11       15.14  "
      ]
     },
     "execution_count": 58,
     "metadata": {},
     "output_type": "execute_result"
    }
   ],
   "source": [
    "southern_data.head()"
   ]
  },
  {
   "cell_type": "markdown",
   "metadata": {},
   "source": [
    "####  Northern Hemisphere - Max Temp vs. Latitude Linear Regression"
   ]
  },
  {
   "cell_type": "code",
   "execution_count": 81,
   "metadata": {},
   "outputs": [
    {
     "data": {
      "image/png": "[encoded data removed]",
      "text/plain": [
       "<Figure size 432x288 with 1 Axes>"
      ]
     },
     "metadata": {
      "needs_background": "light"
     },
     "output_type": "display_data"
    },
    {
     "name": "stdout",
     "output_type": "stream",
     "text": [
      "The correlation between Latitude and Temperature (F) is (-0.6467355471102738, 9.737798824350677e-45)\n",
      "The regression equation is y = -0.5x + 90.72. \n",
      "The r-squared is: 0.4182668678960252 with a p value of 9.737798824350742e-45.\n"
     ]
    }
   ],
   "source": [
    "x_values = northern_data[\"latitude\"]\n",
    "y_values= northern_data[\"temp(f)\"]\n",
    "correlation = st.pearsonr(x_values, y_values)\n",
    "x_label = \"Latitude\"\n",
    "y_label = \"Temperature (F)\"\n",
    "hemi = \"Northern\"\n",
    "# Add the linear regression equation and line to plot\n",
    "(slope, intercept, rvalue, pvalue, stderr) = linregress(x_values, y_values)\n",
    "regress_values = x_values * slope + intercept\n",
    "line_eq = (\"y = \" + str(round(slope,2)) + \"x + \" + str(round(intercept,2)))\n",
    "plt.scatter(x_values,y_values)\n",
    "plt.plot(x_values,regress_values,\"r-\")\n",
    "min_x = x_values.min()\n",
    "min_y = y_values.min()\n",
    "plt.annotate(line_eq,(min_x,min_y),fontsize=15,color=\"red\")\n",
    "plt.xlabel(x_label)\n",
    "plt.ylabel(y_label)\n",
    "plt.title('data as of 8/1/2021')\n",
    "plt.suptitle(f'{x_label} vs. {y_label}, Northern Hemisphere')\n",
    "plt.legend(line_eq, loc = \"upper left\")\n",
    "plt.savefig(f\"../output_data/{hemi}_{x_label}_{y_label}.png\")\n",
    "plt.show()\n",
    "print(f\"The correlation between {x_label} and {y_label} is {correlation}\")\n",
    "print(f\"The regression equation is {line_eq}. \")\n",
    "print(f\"The r-squared is: {rvalue**2} with a p value of {pvalue}.\")"
   ]
  },
  {
   "cell_type": "markdown",
   "metadata": {},
   "source": [
    "####  Southern Hemisphere - Max Temp vs. Latitude Linear Regression"
   ]
  },
  {
   "cell_type": "code",
   "execution_count": 82,
   "metadata": {},
   "outputs": [
    {
     "data": {
      "image/png": "[encoded data removed]",
      "text/plain": [
       "<Figure size 432x288 with 1 Axes>"
      ]
     },
     "metadata": {
      "needs_background": "light"
     },
     "output_type": "display_data"
    },
    {
     "name": "stdout",
     "output_type": "stream",
     "text": [
      "The correlation between Latitude and Temperature (F) is (0.7743466159454284, 5.090160318787462e-34)\n",
      "The regression equation is y = 0.85x + 83.43. \n",
      "The r-squared is: 0.5996126816261365 with a p value of 5.090160318787808e-34.\n"
     ]
    }
   ],
   "source": [
    "x_values = southern_data[\"latitude\"]\n",
    "y_values= southern_data[\"temp(f)\"]\n",
    "correlation = st.pearsonr(x_values, y_values)\n",
    "x_label = \"Latitude\"\n",
    "y_label = \"Temperature (F)\"\n",
    "hemi = \"Southern\"\n",
    "# Add the linear regression equation and line to plot\n",
    "(slope, intercept, rvalue, pvalue, stderr) = linregress(x_values, y_values)\n",
    "regress_values = x_values * slope + intercept\n",
    "line_eq = (\"y = \" + str(round(slope,2)) + \"x + \" + str(round(intercept,2)))\n",
    "plt.scatter(x_values,y_values)\n",
    "plt.plot(x_values,regress_values,\"r-\")\n",
    "min_x = x_values.min()\n",
    "min_y = y_values.min()\n",
    "plt.annotate(line_eq,(min_x,min_y),fontsize=15,color=\"red\")\n",
    "plt.xlabel(x_label)\n",
    "plt.ylabel(y_label)\n",
    "plt.title('data as of 8/1/2021')\n",
    "plt.suptitle(f'{x_label} vs. {y_label}, Southern Hemisphere')\n",
    "plt.legend(line_eq, loc = \"upper left\")\n",
    "plt.savefig(f\"../output_data/{hemi}_{x_label}_{y_label}.png\")\n",
    "plt.show()\n",
    "print(f\"The correlation between {x_label} and {y_label} is {correlation}\")\n",
    "print(f\"The regression equation is {line_eq}. \")\n",
    "print(f\"The r-squared is: {rvalue**2} with a p value of {pvalue}.\")"
   ]
  },
  {
   "cell_type": "markdown",
   "metadata": {},
   "source": [
    "####  Northern Hemisphere - Humidity (%) vs. Latitude Linear Regression"
   ]
  },
  {
   "cell_type": "code",
   "execution_count": 83,
   "metadata": {},
   "outputs": [
    {
     "data": {
      "image/png": "[encoded data removed]",
      "text/plain": [
       "<Figure size 432x288 with 1 Axes>"
      ]
     },
     "metadata": {
      "needs_background": "light"
     },
     "output_type": "display_data"
    },
    {
     "name": "stdout",
     "output_type": "stream",
     "text": [
      "The correlation between Latitude and Humidity (%) is (0.007060185019144282, 0.8929210717857196)\n",
      "The regression equation is y = 0.01x + 70.22. \n",
      "The r-squared is: 4.984621250454955e-05 with a p value of 0.8929210717857681.\n"
     ]
    }
   ],
   "source": [
    "x_values = northern_data[\"latitude\"]\n",
    "y_values= northern_data[\"humidity\"]\n",
    "correlation = st.pearsonr(x_values, y_values)\n",
    "x_label = \"Latitude\"\n",
    "y_label = \"Humidity (%)\"\n",
    "hemi = \"Northern\"\n",
    "# Add the linear regression equation and line to plot\n",
    "(slope, intercept, rvalue, pvalue, stderr) = linregress(x_values, y_values)\n",
    "regress_values = x_values * slope + intercept\n",
    "line_eq = (\"y = \" + str(round(slope,2)) + \"x + \" + str(round(intercept,2)))\n",
    "plt.scatter(x_values,y_values)\n",
    "plt.plot(x_values,regress_values,\"r-\")\n",
    "min_x = x_values.min()\n",
    "min_y = y_values.min()\n",
    "plt.annotate(line_eq,(min_x,min_y),fontsize=15,color=\"red\")\n",
    "plt.xlabel(x_label)\n",
    "plt.ylabel(y_label)\n",
    "plt.title('data as of 8/1/2021')\n",
    "plt.suptitle(f'{x_label} vs. {y_label}, Northern Hemisphere')\n",
    "plt.legend(line_eq, loc = \"upper left\")\n",
    "plt.savefig(f\"../output_data/{hemi}_{x_label}_{y_label}.png\")\n",
    "plt.show()\n",
    "print(f\"The correlation between {x_label} and {y_label} is {correlation}\")\n",
    "print(f\"The regression equation is {line_eq}. \")\n",
    "print(f\"The r-squared is: {rvalue**2} with a p value of {pvalue}.\")"
   ]
  },
  {
   "cell_type": "markdown",
   "metadata": {},
   "source": [
    "####  Southern Hemisphere - Humidity (%) vs. Latitude Linear Regression"
   ]
  },
  {
   "cell_type": "code",
   "execution_count": 85,
   "metadata": {},
   "outputs": [
    {
     "data": {
      "image/png": "[encoded data removed]",
      "text/plain": [
       "<Figure size 432x288 with 1 Axes>"
      ]
     },
     "metadata": {
      "needs_background": "light"
     },
     "output_type": "display_data"
    },
    {
     "name": "stdout",
     "output_type": "stream",
     "text": [
      "The correlation between Latitude and Humidity (%) is (-0.0039707705149227834, 0.9597542909785663)\n",
      "The regression equation is y = -0.01x + 65.96. \n",
      "The r-squared is: 1.5767018482180118e-05 with a p value of 0.9597542909785688.\n"
     ]
    }
   ],
   "source": [
    "x_values = southern_data[\"latitude\"]\n",
    "y_values= southern_data[\"humidity\"]\n",
    "correlation = st.pearsonr(x_values, y_values)\n",
    "x_label = \"Latitude\"\n",
    "y_label = \"Humidity (%)\"\n",
    "hemi = \"Southern\"\n",
    "# Add the linear regression equation and line to plot\n",
    "(slope, intercept, rvalue, pvalue, stderr) = linregress(x_values, y_values)\n",
    "regress_values = x_values * slope + intercept\n",
    "line_eq = (\"y = \" + str(round(slope,2)) + \"x + \" + str(round(intercept,2)))\n",
    "plt.scatter(x_values,y_values)\n",
    "plt.plot(x_values,regress_values,\"r-\")\n",
    "min_x = x_values.min()\n",
    "min_y = y_values.min()\n",
    "plt.annotate(line_eq,(min_x,min_y),fontsize=15,color=\"red\")\n",
    "plt.legend(line_eq, loc = \"upper left\")\n",
    "plt.xlabel(x_label)\n",
    "plt.ylabel(y_label)\n",
    "plt.title('data as of 8/1/2021')\n",
    "plt.suptitle(f'{x_label} vs. {y_label}, Southern Hemisphere')\n",
    "plt.savefig(f\"../output_data/{hemi}_{x_label}_{y_label}.png\")\n",
    "plt.show()\n",
    "print(f\"The correlation between {x_label} and {y_label} is {correlation}\")\n",
    "print(f\"The regression equation is {line_eq}. \")\n",
    "print(f\"The r-squared is: {rvalue**2} with a p value of {pvalue}.\")"
   ]
  },
  {
   "cell_type": "markdown",
   "metadata": {},
   "source": [
    "####  Northern Hemisphere - Cloudiness (%) vs. Latitude Linear Regression"
   ]
  },
  {
   "cell_type": "code",
   "execution_count": 86,
   "metadata": {},
   "outputs": [
    {
     "data": {
      "image/png": "[encoded data removed]",
      "text/plain": [
       "<Figure size 432x288 with 1 Axes>"
      ]
     },
     "metadata": {
      "needs_background": "light"
     },
     "output_type": "display_data"
    },
    {
     "name": "stdout",
     "output_type": "stream",
     "text": [
      "The correlation between Latitude and Cloudiness (%) is (-0.03925439005225238, 0.4540377722111207)\n",
      "The regression equation is y = -0.07x + 60.75. \n",
      "The r-squared is: 0.0015409071383743714 with a p value of 0.4540377722111424.\n"
     ]
    }
   ],
   "source": [
    "x_values = northern_data[\"latitude\"]\n",
    "y_values= northern_data[\"cloudiness\"]\n",
    "correlation = st.pearsonr(x_values, y_values)\n",
    "x_label = \"Latitude\"\n",
    "y_label = \"Cloudiness (%)\"\n",
    "hemi = \"Northern\"\n",
    "# Add the linear regression equation and line to plot\n",
    "(slope, intercept, rvalue, pvalue, stderr) = linregress(x_values, y_values)\n",
    "regress_values = x_values * slope + intercept\n",
    "line_eq = (\"y = \" + str(round(slope,2)) + \"x + \" + str(round(intercept,2)))\n",
    "plt.scatter(x_values,y_values)\n",
    "plt.plot(x_values,regress_values,\"r-\")\n",
    "min_x = x_values.min()\n",
    "min_y = y_values.min()\n",
    "plt.annotate(line_eq,(min_x,min_y),fontsize=15,color=\"red\")\n",
    "plt.xlabel(x_label)\n",
    "plt.ylabel(y_label)\n",
    "plt.title('data as of 8/1/2021')\n",
    "plt.suptitle(f'{x_label} vs. {y_label}, Northern Hemisphere')\n",
    "plt.legend(line_eq, loc = \"upper left\")\n",
    "plt.savefig(f\"../output_data/{hemi}_{x_label}_{y_label}.png\")\n",
    "plt.show()\n",
    "print(f\"The correlation between {x_label} and {y_label} is {correlation}\")\n",
    "print(f\"The regression equation is {line_eq}. \")\n",
    "print(f\"The r-squared is: {rvalue**2} with a p value of {pvalue}.\")"
   ]
  },
  {
   "cell_type": "markdown",
   "metadata": {},
   "source": [
    "####  Southern Hemisphere - Cloudiness (%) vs. Latitude Linear Regression"
   ]
  },
  {
   "cell_type": "code",
   "execution_count": 87,
   "metadata": {},
   "outputs": [
    {
     "data": {
      "image/png": "[encoded data removed]",
      "text/plain": [
       "<Figure size 432x288 with 1 Axes>"
      ]
     },
     "metadata": {
      "needs_background": "light"
     },
     "output_type": "display_data"
    },
    {
     "name": "stdout",
     "output_type": "stream",
     "text": [
      "The correlation between Latitude and Cloudiness (%) is (0.2731630038106469, 0.00040166696211652)\n",
      "The regression equation is y = 0.77x + 64.81. \n",
      "The r-squared is: 0.07461802665085546 with a p value of 0.00040166696211652096.\n"
     ]
    }
   ],
   "source": [
    "x_values = southern_data[\"latitude\"]\n",
    "y_values= southern_data[\"cloudiness\"]\n",
    "\n",
    "correlation = st.pearsonr(x_values, y_values)\n",
    "x_label = \"Latitude\"\n",
    "y_label = \"Cloudiness (%)\"\n",
    "hemi = \"Northern\"\n",
    "# Add the linear regression equation and line to plot\n",
    "(slope, intercept, rvalue, pvalue, stderr) = linregress(x_values, y_values)\n",
    "regress_values = x_values * slope + intercept\n",
    "line_eq = (\"y = \" + str(round(slope,2)) + \"x + \" + str(round(intercept,2)))\n",
    "plt.scatter(x_values,y_values)\n",
    "plt.plot(x_values,regress_values,\"r-\")\n",
    "min_x = x_values.min()\n",
    "min_y = y_values.min()\n",
    "plt.annotate(line_eq,(min_x,min_y),fontsize=15,color=\"red\")\n",
    "plt.legend(line_eq, loc = \"upper left\")\n",
    "plt.xlabel(x_label)\n",
    "plt.ylabel(y_label)\n",
    "plt.title('data as of 8/1/2021')\n",
    "plt.suptitle(f'{x_label} vs. {y_label}, Southern Hemisphere')\n",
    "plt.savefig(f\"../output_data/{hemi}_{x_label}_{y_label}.png\")\n",
    "plt.show()\n",
    "print(f\"The correlation between {x_label} and {y_label} is {correlation}\")\n",
    "print(f\"The regression equation is {line_eq}. \")\n",
    "print(f\"The r-squared is: {rvalue**2} with a p value of {pvalue}.\")"
   ]
  },
  {
   "cell_type": "markdown",
   "metadata": {},
   "source": [
    "####  Northern Hemisphere - Wind Speed (mph) vs. Latitude Linear Regression"
   ]
  },
  {
   "cell_type": "code",
   "execution_count": 88,
   "metadata": {},
   "outputs": [
    {
     "data": {
      "image/png": "[encoded data removed]",
      "text/plain": [
       "<Figure size 432x288 with 1 Axes>"
      ]
     },
     "metadata": {
      "needs_background": "light"
     },
     "output_type": "display_data"
    },
    {
     "name": "stdout",
     "output_type": "stream",
     "text": [
      "The correlation between Latitude and Wind Speed (mph) is (-0.10102064707993923, 0.0534867401166594)\n",
      "The regression equation is y = -0.03x + 8.63. \n",
      "The r-squared is: 0.010205171136449637 with a p value of 0.05348674011666171.\n"
     ]
    }
   ],
   "source": [
    "x_values = northern_data[\"latitude\"]\n",
    "y_values= northern_data[\"wind_speed\"]\n",
    "\n",
    "correlation = st.pearsonr(x_values, y_values)\n",
    "x_label = \"Latitude\"\n",
    "y_label = \"Wind Speed (mph)\"\n",
    "hemi = \"Northern\"\n",
    "# Add the linear regression equation and line to plot\n",
    "(slope, intercept, rvalue, pvalue, stderr) = linregress(x_values, y_values)\n",
    "regress_values = x_values * slope + intercept\n",
    "line_eq = (\"y = \" + str(round(slope,2)) + \"x + \" + str(round(intercept,2)))\n",
    "plt.scatter(x_values,y_values)\n",
    "plt.plot(x_values,regress_values,\"r-\")\n",
    "min_x = x_values.min()\n",
    "min_y = y_values.min()\n",
    "plt.annotate(line_eq,(min_x,min_y),fontsize=15,color=\"red\")\n",
    "plt.legend(line_eq, loc = \"upper left\")\n",
    "plt.xlabel(x_label)\n",
    "plt.ylabel(y_label)\n",
    "plt.title('data as of 8/1/2021')\n",
    "plt.suptitle(f'{x_label} vs. {y_label}, {hemi} Hemisphere')\n",
    "plt.savefig(f\"../output_data/{hemi}_{x_label}_{y_label}.png\")\n",
    "plt.show()\n",
    "print(f\"The correlation between {x_label} and {y_label} is {correlation}\")\n",
    "print(f\"The regression equation is {line_eq}. \")\n",
    "print(f\"The r-squared is: {rvalue**2} with a p value of {pvalue}.\")"
   ]
  },
  {
   "cell_type": "markdown",
   "metadata": {},
   "source": [
    "####  Southern Hemisphere - Wind Speed (mph) vs. Latitude Linear Regression"
   ]
  },
  {
   "cell_type": "code",
   "execution_count": 89,
   "metadata": {},
   "outputs": [
    {
     "data": {
      "image/png": "[encoded data removed]",
      "text/plain": [
       "<Figure size 432x288 with 1 Axes>"
      ]
     },
     "metadata": {
      "needs_background": "light"
     },
     "output_type": "display_data"
    },
    {
     "name": "stdout",
     "output_type": "stream",
     "text": [
      "The correlation between Latitude and Wind Speed (mph) is (-0.03231572212449046, 0.6812301345867208)\n",
      "The regression equation is y = -0.02x + 8.23. \n",
      "The r-squared is: 0.0010443058964272848 with a p value of 0.681230134586715.\n"
     ]
    }
   ],
   "source": [
    "x_values = southern_data[\"latitude\"]\n",
    "y_values= southern_data[\"wind_speed\"]\n",
    "\n",
    "correlation = st.pearsonr(x_values, y_values)\n",
    "x_label = \"Latitude\"\n",
    "y_label = \"Wind Speed (mph)\"\n",
    "hemi = \"Southern\"\n",
    "# Add the linear regression equation and line to plot\n",
    "(slope, intercept, rvalue, pvalue, stderr) = linregress(x_values, y_values)\n",
    "regress_values = x_values * slope + intercept\n",
    "line_eq = (\"y = \" + str(round(slope,2)) + \"x + \" + str(round(intercept,2)))\n",
    "plt.scatter(x_values,y_values)\n",
    "plt.plot(x_values,regress_values,\"r-\")\n",
    "min_x = x_values.min()\n",
    "min_y = y_values.min()\n",
    "plt.annotate(line_eq,(min_x,min_y),fontsize=15,color=\"red\")\n",
    "plt.legend(line_eq, loc = \"upper left\")\n",
    "plt.xlabel(x_label)\n",
    "plt.ylabel(y_label)\n",
    "plt.title('data as of 8/1/2021')\n",
    "plt.suptitle(f'{x_label} vs. {y_label}, {hemi} Hemisphere')\n",
    "plt.savefig(f\"../output_data/{hemi}_{x_label}_{y_label}.png\")\n",
    "plt.show()\n",
    "print(f\"The correlation between {x_label} and {y_label} is {correlation}\")\n",
    "print(f\"The regression equation is {line_eq}. \")\n",
    "print(f\"The r-squared is: {rvalue**2} with a p value of {pvalue}.\")"
   ]
  },
  {
   "cell_type": "code",
   "execution_count": null,
   "metadata": {},
   "outputs": [],
   "source": []
  }
 ],
 "metadata": {
  "anaconda-cloud": {},
  "kernel_info": {
   "name": "python3"
  },
  "kernelspec": {
   "display_name": "Python 3",
   "language": "python",
   "name": "python3"
  },
  "language_info": {
   "codemirror_mode": {
    "name": "ipython",
    "version": 3
   },
   "file_extension": ".py",
   "mimetype": "text/x-python",
   "name": "python",
   "nbconvert_exporter": "python",
   "pygments_lexer": "ipython3",
   "version": "3.8.10"
  },
  "latex_envs": {
   "LaTeX_envs_menu_present": true,
   "autoclose": false,
   "autocomplete": true,
   "bibliofile": "biblio.bib",
   "cite_by": "apalike",
   "current_citInitial": 1,
   "eqLabelWithNumbers": true,
   "eqNumInitial": 1,
   "hotkeys": {
    "equation": "Ctrl-E",
    "itemize": "Ctrl-I"
   },
   "labels_anchors": false,
   "latex_user_defs": false,
   "report_style_numbering": false,
   "user_envs_cfg": false
  },
  "nteract": {
   "version": "0.12.3"
  }
 },
 "nbformat": 4,
 "nbformat_minor": 2
}
